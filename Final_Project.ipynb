{
  "nbformat": 4,
  "nbformat_minor": 0,
  "metadata": {
    "colab": {
      "name": "Final_Project.ipynb",
      "provenance": [],
      "collapsed_sections": []
    },
    "kernelspec": {
      "name": "python3",
      "display_name": "Python 3"
    }
  },
  "cells": [
    {
      "cell_type": "markdown",
      "metadata": {
        "id": "d4JuI-XzRwe0",
        "colab_type": "text"
      },
      "source": [
        "Below is setup for Drake"
      ]
    },
    {
      "cell_type": "code",
      "metadata": {
        "id": "DmFdFn7RQtEg",
        "colab_type": "code",
        "colab": {}
      },
      "source": [
        "try:\n",
        "    import pydrake\n",
        "    import underactuated\n",
        "except ImportError:\n",
        "    !curl -s https://raw.githubusercontent.com/RussTedrake/underactuated/master/scripts/setup/jupyter_setup.py > jupyter_setup.py\n",
        "    from jupyter_setup import setup_underactuated\n",
        "    setup_underactuated()\n",
        "\n",
        "# Setup matplotlib.\n",
        "from IPython import get_ipython\n",
        "if get_ipython() is not None: get_ipython().run_line_magic(\"matplotlib\", \"inline\")"
      ],
      "execution_count": 0,
      "outputs": []
    },
    {
      "cell_type": "code",
      "metadata": {
        "id": "j8skup-HQwwo",
        "colab_type": "code",
        "colab": {}
      },
      "source": [
        "# python libraries\n",
        "import numpy as np\n",
        "import matplotlib.pyplot as plt\n",
        "from IPython.display import HTML\n",
        "import sys \n",
        "import platform\n",
        "import pydrake\n",
        "from pydrake.solvers import branch_and_bound\n",
        "\n",
        "# pydrake imports\n",
        "from pydrake.all import (MultibodyPlant, Parser, DiagramBuilder, Simulator,\n",
        "                         PlanarSceneGraphVisualizer, SceneGraph, TrajectorySource,\n",
        "                         SnoptSolver, MultibodyPositionToGeometryPose, PiecewisePolynomial,\n",
        "                         MathematicalProgram, JacobianWrtVariable, eq, LinearQuadraticRegulator,\n",
        "                         Linearize, AddMultibodyPlantSceneGraph, VectorSystem, le, ge, OsqpSolver)\n",
        "# underactuated imports\n",
        "from underactuated import FindResource"
      ],
      "execution_count": 0,
      "outputs": []
    },
    {
      "cell_type": "code",
      "metadata": {
        "id": "hRWUst5FN3-N",
        "colab_type": "code",
        "outputId": "a0feeabd-9c76-413f-b41e-ecc86a08f283",
        "colab": {
          "base_uri": "https://localhost:8080/",
          "height": 119
        }
      },
      "source": [
        "#clears file and downloads urdf to have it be updated\n",
        "get_ipython().system(u\"rm -rf /opt/hopper\")\n",
        "if platform.system() == \"Darwin\":\n",
        "  get_ipython().system(u\"if [ ! -d '/opt/hopper' ]; then git clone https://github.com/Olliebear/underactuated_final_project.git /opt/hopper; fi\")\n",
        "elif platform.linux_distribution() == (\"Ubuntu\", \"18.04\", \"bionic\"):\n",
        "  get_ipython().system(u\"if [ ! -d '/opt/hopper' ]; then git clone https://github.com/Olliebear/underactuated_final_project.git /opt/hopper; fi\" )\n",
        "else:\n",
        "  assert False, \"Unsupported platform\"\n",
        "sys.path.append(\"/opt/hopper\")"
      ],
      "execution_count": 85,
      "outputs": [
        {
          "output_type": "stream",
          "text": [
            "Cloning into '/opt/hopper'...\n",
            "remote: Enumerating objects: 40, done.\u001b[K\n",
            "remote: Counting objects:   2% (1/40)\u001b[K\rremote: Counting objects:   5% (2/40)\u001b[K\rremote: Counting objects:   7% (3/40)\u001b[K\rremote: Counting objects:  10% (4/40)\u001b[K\rremote: Counting objects:  12% (5/40)\u001b[K\rremote: Counting objects:  15% (6/40)\u001b[K\rremote: Counting objects:  17% (7/40)\u001b[K\rremote: Counting objects:  20% (8/40)\u001b[K\rremote: Counting objects:  22% (9/40)\u001b[K\rremote: Counting objects:  25% (10/40)\u001b[K\rremote: Counting objects:  27% (11/40)\u001b[K\rremote: Counting objects:  30% (12/40)\u001b[K\rremote: Counting objects:  32% (13/40)\u001b[K\rremote: Counting objects:  35% (14/40)\u001b[K\rremote: Counting objects:  37% (15/40)\u001b[K\rremote: Counting objects:  40% (16/40)\u001b[K\rremote: Counting objects:  42% (17/40)\u001b[K\rremote: Counting objects:  45% (18/40)\u001b[K\rremote: Counting objects:  47% (19/40)\u001b[K\rremote: Counting objects:  50% (20/40)\u001b[K\rremote: Counting objects:  52% (21/40)\u001b[K\rremote: Counting objects:  55% (22/40)\u001b[K\rremote: Counting objects:  57% (23/40)\u001b[K\rremote: Counting objects:  60% (24/40)\u001b[K\rremote: Counting objects:  62% (25/40)\u001b[K\rremote: Counting objects:  65% (26/40)\u001b[K\rremote: Counting objects:  67% (27/40)\u001b[K\rremote: Counting objects:  70% (28/40)\u001b[K\rremote: Counting objects:  72% (29/40)\u001b[K\rremote: Counting objects:  75% (30/40)\u001b[K\rremote: Counting objects:  77% (31/40)\u001b[K\rremote: Counting objects:  80% (32/40)\u001b[K\rremote: Counting objects:  82% (33/40)\u001b[K\rremote: Counting objects:  85% (34/40)\u001b[K\rremote: Counting objects:  87% (35/40)\u001b[K\rremote: Counting objects:  90% (36/40)\u001b[K\rremote: Counting objects:  92% (37/40)\u001b[K\rremote: Counting objects:  95% (38/40)\u001b[K\rremote: Counting objects:  97% (39/40)\u001b[K\rremote: Counting objects: 100% (40/40)\u001b[K\rremote: Counting objects: 100% (40/40), done.\u001b[K\n",
            "remote: Compressing objects:   3% (1/32)\u001b[K\rremote: Compressing objects:   6% (2/32)\u001b[K\rremote: Compressing objects:   9% (3/32)\u001b[K\rremote: Compressing objects:  12% (4/32)\u001b[K\rremote: Compressing objects:  15% (5/32)\u001b[K\rremote: Compressing objects:  18% (6/32)\u001b[K\rremote: Compressing objects:  21% (7/32)\u001b[K\rremote: Compressing objects:  25% (8/32)\u001b[K\rremote: Compressing objects:  28% (9/32)\u001b[K\rremote: Compressing objects:  31% (10/32)\u001b[K\rremote: Compressing objects:  34% (11/32)\u001b[K\rremote: Compressing objects:  37% (12/32)\u001b[K\rremote: Compressing objects:  40% (13/32)\u001b[K\rremote: Compressing objects:  43% (14/32)\u001b[K\rremote: Compressing objects:  46% (15/32)\u001b[K\rremote: Compressing objects:  50% (16/32)\u001b[K\rremote: Compressing objects:  53% (17/32)\u001b[K\rremote: Compressing objects:  56% (18/32)\u001b[K\rremote: Compressing objects:  59% (19/32)\u001b[K\rremote: Compressing objects:  62% (20/32)\u001b[K\rremote: Compressing objects:  65% (21/32)\u001b[K\rremote: Compressing objects:  68% (22/32)\u001b[K\rremote: Compressing objects:  71% (23/32)\u001b[K\rremote: Compressing objects:  75% (24/32)\u001b[K\rremote: Compressing objects:  78% (25/32)\u001b[K\rremote: Compressing objects:  81% (26/32)\u001b[K\rremote: Compressing objects:  84% (27/32)\u001b[K\rremote: Compressing objects:  87% (28/32)\u001b[K\rremote: Compressing objects:  90% (29/32)\u001b[K\rremote: Compressing objects:  93% (30/32)\u001b[K\rremote: Compressing objects:  96% (31/32)\u001b[K\rremote: Compressing objects: 100% (32/32)\u001b[K\rremote: Compressing objects: 100% (32/32), done.\u001b[K\n",
            "remote: Total 40 (delta 20), reused 28 (delta 8), pack-reused 0\u001b[K\n",
            "Unpacking objects: 100% (40/40), done.\n"
          ],
          "name": "stdout"
        }
      ]
    },
    {
      "cell_type": "markdown",
      "metadata": {
        "id": "701sqocLRutw",
        "colab_type": "text"
      },
      "source": [
        "##Define the problem's parameters:\n",
        "x0, y0 are coordinates of the foot of the 2d hopper.\n",
        "\n",
        "th1 (theta1) is the angle between the foot and the upright, th2 is angle between bode and upright.\n",
        "\n",
        "z0 is the distance from the hip pin joint to the foot. \n",
        "\n",
        "uT is torque input at pinjoint connecting leg and body. uX is length actuation on the spring in the leg. \n",
        "\n",
        "###Other parameters:\n",
        "Spring length K_length= z0 - uX.\n",
        "\n",
        "m1,I1,r1 = mass, inertia and radius from toe to C.O.M. for the leg\n",
        "\n",
        "m2,I2,r2 = mass, inertia and radius from hip to C.O.M. for the body\n",
        "\n",
        "##While on the ground:\n",
        "For now, assume infinite friction. Can add friction cone constraint later, or add more modes"
      ]
    },
    {
      "cell_type": "markdown",
      "metadata": {
        "id": "IqaARnSmHM4A",
        "colab_type": "text"
      },
      "source": [
        "###Define Some System Constants\n",
        "Order of states: x0, y0, th1, z0, th2"
      ]
    },
    {
      "cell_type": "code",
      "metadata": {
        "id": "ITCXrjPcHMh5",
        "colab_type": "code",
        "colab": {}
      },
      "source": [
        "x_initial=[0, 3, 0, 0, 0, 0, 0, 0, 0, 0]\n",
        "\n",
        "\n",
        "# weight matrices for the lqr controller\n",
        "Q = np.eye(10)\n",
        "R = np.eye(4)"
      ],
      "execution_count": 0,
      "outputs": []
    },
    {
      "cell_type": "markdown",
      "metadata": {
        "id": "AHuwvXLrPMsQ",
        "colab_type": "text"
      },
      "source": [
        "# **Some info here**\n",
        "In general, this code is a bit of a crap heap. Sorry. Lots of things/ideas going on here that I'm working on. The next few blocks though are the main part I think.\n",
        "\n",
        "The problem is I need a better solver to actually solve my mathematical program, but I'm not sure how to get that onto this colab machine remotely. I'd imagine there's licensing issues. \n",
        "\n",
        "Also, it would be difficult for me to install drake on my personal computer because it would involve updating my OS (to get python 3.8)"
      ]
    },
    {
      "cell_type": "code",
      "metadata": {
        "id": "JTkXQqYMCDYZ",
        "colab_type": "code",
        "colab": {}
      },
      "source": [
        "\n",
        "builder=DiagramBuilder()\n",
        "hopper, scene_graph = AddMultibodyPlantSceneGraph(builder, time_step=0)\n",
        "Parser(hopper).AddModelFromFile('/opt/hopper/hopper.urdf')\n",
        "hopper.Finalize()\n",
        "hopper.set_penetration_allowance(0.001)\n",
        "hopper=hopper.ToAutoDiffXd()\n",
        "\n",
        "\n",
        "nq=hopper.num_positions()\n",
        "nf=4 # 2 inputs ux ut and 2 contact forces\n",
        "\n",
        "context=hopper.CreateDefaultContext()\n",
        "context.SetTime(0)\n"
      ],
      "execution_count": 0,
      "outputs": []
    },
    {
      "cell_type": "code",
      "metadata": {
        "id": "SWkMwL9JDN-f",
        "colab_type": "code",
        "colab": {}
      },
      "source": [
        "def make_animation(x_trj):\n",
        "  "
      ],
      "execution_count": 0,
      "outputs": []
    },
    {
      "cell_type": "code",
      "metadata": {
        "id": "MBS-xiPl2Fyk",
        "colab_type": "code",
        "colab": {}
      },
      "source": [
        "def manipulator_equations(vars):\n",
        "    \n",
        "    # split input vector in subvariables\n",
        "    # configuration, velocity, acceleration, stance-foot force\n",
        "    assert vars.size == 3 * nq + 2\n",
        "    split_at = [nq, 2 * nq, 3 * nq ,]\n",
        "    q, qd, qdd, u = np.split(vars, split_at)\n",
        "    u[0]=get_spring_force(q[3],u[0])\n",
        "\n",
        "    # set compass gait state\n",
        "    context = hopper.CreateDefaultContext()\n",
        "    hopper.SetPositions(context, q)\n",
        "    hopper.SetVelocities(context, qd)\n",
        "    \n",
        "    # matrices for the manipulator equations\n",
        "    M = hopper.CalcMassMatrixViaInverseDynamics(context)\n",
        "    Cv = hopper.CalcBiasTerm(context)\n",
        "    tauG = hopper.CalcGravityGeneralizedForces(context)\n",
        "    \n",
        "    #changing to makeActuation_matrix() then multiplying that by u.\n",
        "    B=hopper.MakeActuationMatrix()\n",
        "\n",
        "    # Jacobian of the stance foot\n",
        "    #Jf = get_foot_jacobian(hopper, context)\n",
        "\n",
        "    # return violation of the manipulator equations\n",
        "    return M.dot(qdd) + Cv - tauG  - B.dot(u)#- Jf.T.dot(f)"
      ],
      "execution_count": 0,
      "outputs": []
    },
    {
      "cell_type": "code",
      "metadata": {
        "id": "CDOY8xkt436r",
        "colab_type": "code",
        "colab": {}
      },
      "source": [
        "def get_foot_jacobian(hopper, context):\n",
        "    \n",
        "    # get reference frames for the given leg and the ground\n",
        "    leg_frame = hopper.GetBodyByName('leg').body_frame()\n",
        "    ground_frame = hopper.GetBodyByName('ground').body_frame()\n",
        "\n",
        "    # compute Jacobian matrix\n",
        "    J = hopper.CalcJacobianTranslationalVelocity(\n",
        "        context,\n",
        "        JacobianWrtVariable(0),\n",
        "        leg_frame,\n",
        "        np.array([0,0,0]),\n",
        "        ground_frame,\n",
        "        ground_frame\n",
        "    )\n",
        "    \n",
        "    # discard y components since we are in 2D\n",
        "    return J[[0, 2]]"
      ],
      "execution_count": 0,
      "outputs": []
    },
    {
      "cell_type": "code",
      "metadata": {
        "id": "8Ro1jkky0y7h",
        "colab_type": "code",
        "colab": {}
      },
      "source": [
        "def get_spring_force(z0,uX):\n",
        "  k=1000 #spring constant\n",
        "  kL=1 #relaxed length\n",
        "\n",
        "  return(k*(-z0+uX))"
      ],
      "execution_count": 0,
      "outputs": []
    },
    {
      "cell_type": "code",
      "metadata": {
        "id": "-4QrUtUz8YYD",
        "colab_type": "code",
        "colab": {}
      },
      "source": [
        "def get_ground_height(x):\n",
        "  #use this to get the height at some position x. can change to have variable terrain\n",
        "  return 0"
      ],
      "execution_count": 0,
      "outputs": []
    },
    {
      "cell_type": "code",
      "metadata": {
        "id": "sT2AhUi4esfz",
        "colab_type": "code",
        "colab": {}
      },
      "source": [
        "def get_ground_schedule(num_steps,num_hits,density=False):\n",
        "  schedule=np.zeros(num_steps)\n",
        "  if density:\n",
        "    schedule=None\n",
        "  else:#first time running, no prescribed density\n",
        "    total_num=num_hits*2+1 #starts in air, ends on ground, \n",
        "    steps_per_hit=int(num_steps/total_num)\n",
        "    for i in range(total_num):\n",
        "      if (i%2==1): #if odd, on the ground\n",
        "        lower=i*steps_per_hit\n",
        "        upper=i*steps_per_hit + steps_per_hit\n",
        "        schedule[lower:upper]=np.ones(steps_per_hit)\n",
        "  return schedule"
      ],
      "execution_count": 0,
      "outputs": []
    },
    {
      "cell_type": "code",
      "metadata": {
        "id": "EC7IpG29pD96",
        "colab_type": "code",
        "outputId": "25563933-005c-4fd9-efbe-5606d94d6b01",
        "colab": {
          "base_uri": "https://localhost:8080/",
          "height": 860
        }
      },
      "source": [
        "#FIND STEADY STATE SOLUTION AT x=0 with hopping height y_d\n",
        "prog=MathematicalProgram()\n",
        "N=200\n",
        "\n",
        "y_d = 1.4 #desired hopping height\n",
        "\n",
        "q_initial=[0,y_d,0,0,0]\n",
        "qd_initial=[0,0,0,0,0]\n",
        "\n",
        "h_max=.05\n",
        "h_min=.005\n",
        "\n",
        "h=prog.NewContinuousVariables(N,1,'h') #time steps\n",
        "q=prog.NewContinuousVariables(N+1,5,'q')\n",
        "qd=prog.NewContinuousVariables(N+1,5,'qd')\n",
        "qdd=prog.NewContinuousVariables(N+1,5,'qdd')\n",
        "uZ=prog.NewContinuousVariables(N,1,'uZ')\n",
        "uT=prog.NewContinuousVariables(N,1,'uT')\n",
        "\n",
        "#make grounded variable pre-scheduled \n",
        "number_of_contacts=1\n",
        "grounded=get_ground_schedule(N,number_of_contacts)\n",
        "M=10\n",
        "#print(state[0])\n",
        "\n",
        "prog.AddLinearConstraint(eq(q[0],q_initial))\n",
        "prog.AddLinearConstraint(eq(qd[0],qd_initial))\n",
        "\n",
        "prog.AddLinearConstraint(eq(q[N],q[0]))\n",
        "prog.AddLinearConstraint(eq(qd[N],qd[0]))\n",
        "\n",
        "for t in range(N):\n",
        "  prog.AddBoundingBoxConstraint(np.array([0]),np.array([0.8]),uZ[t])\n",
        "\n",
        "  prog.AddBoundingBoxConstraint(h_min*np.ones(1),h_max*np.ones(1),h[t])\n",
        "\n",
        "  prog.AddConstraint(eq(q[t+1] , q[t] + h[t] * qd[t+1]))\n",
        "  prog.AddConstraint(eq(qd[t+1] , qd[t] + h[t] * qdd[t]))\n",
        "\n",
        "\n",
        "  var=np.concatenate((q[t],qd[t],qdd[t],uZ[t],uT[t]))\n",
        "  prog.AddConstraint(manipulator_equations, lb=[0]*nq, ub=[0]*nq, vars=var) #dynamics constraint\n",
        "  \n",
        "  #y force is > 0\n",
        "\n",
        "  #y0 is always above ground. using get_ground_height so that we can change ground geometry\n",
        "  #prog.AddConstraint(foot_height,lb=[0],ub=[(1-grounded[t])*M],vars=q[t])\n",
        "\n",
        "  #below is complimentarity constraint\n",
        "\n",
        "  #if touching ground, xdot = 0, ydot=0, y=0\n",
        "\n",
        "  prog.AddLinearConstraint(q[t,1]-get_ground_height(q[t,0])<=(1-grounded[t])*M) #complimentarity\n",
        "  #prog.AddLinearConstraint(q[t,1]-get_ground_height(q[t,0])>=0) #y is above 0\n",
        "  #add controller cost\n",
        "\n",
        "solver=SnoptSolver()\n",
        "result=solver.Solve(prog)\n",
        "h_star=result.GetSolution(h)\n",
        "q_star=result.GetSolution(q)\n",
        "qd_star=result.GetSolution(qd)\n",
        "steps=np.linspace(0,N,N+1)\n",
        "plt.figure()\n",
        "plt.plot(steps,q_star[:,1])\n",
        "uZ_star=result.GetSolution(uZ)\n",
        "print(uZ_star)\n",
        "#print(q_star[:,1])\n",
        "plt.plot(steps,q_star[:,3])"
      ],
      "execution_count": 90,
      "outputs": [
        {
          "output_type": "stream",
          "text": [
            "[0.03277742 0.02096511 0.02230987 0.02420388 0.02664416 0.02962776\n",
            " 0.03315173 0.03721313 0.04180905 0.04693658 0.05259282 0.05877489\n",
            " 0.06547992 0.07270505 0.08044743 0.08870423 0.09747262 0.10674979\n",
            " 0.11653294 0.12681927 0.13760602 0.14889041 0.16066969 0.17294111\n",
            " 0.18570194 0.19894945 0.21268092 0.22689367 0.24158499 0.2567522\n",
            " 0.27239262 0.28850361 0.3050825  0.32212665 0.33963342 0.35760021\n",
            " 0.37602438 0.39490334 0.40741012 0.42699222 0.44683341 0.4669308\n",
            " 0.48728153 0.50788276 0.52873165 0.54982534 0.57116104 0.59273591\n",
            " 0.61454715 0.63659196 0.65886755 0.68137114 0.70409996 0.72705123\n",
            " 0.75022221 0.77361013 0.79323846 0.8        0.8        0.8\n",
            " 0.8        0.8        0.8        0.8        0.8        0.8\n",
            " 0.8        0.8        0.8        0.8        0.8        0.8\n",
            " 0.8        0.8        0.8        0.8        0.8        0.8\n",
            " 0.7850248  0.76357613 0.74338006 0.72442591 0.71094285 0.69026665\n",
            " 0.67508931 0.66111006 0.64831837 0.63670373 0.62625567 0.61696376\n",
            " 0.60881759 0.60180679 0.59592102 0.59114995 0.58697667 0.5832529\n",
            " 0.58073254 0.57939519 0.57922048 0.57857495 0.58227761 0.58546886\n",
            " 0.58974154 0.59507541 0.60145028 0.60884596 0.61466524 0.622409\n",
            " 0.63096995 0.64030785 0.64717911 0.6611922  0.67261805 0.68470877\n",
            " 0.69743356 0.71076164 0.72466228 0.73910472 0.75405825 0.76949213\n",
            " 0.7853757  0.8        0.8        0.8        0.8        0.8\n",
            " 0.8        0.8        0.8        0.8        0.8        0.8\n",
            " 0.8        0.8        0.8        0.8        0.8        0.8\n",
            " 0.8        0.8        0.8        0.78785534 0.77036242 0.75273137\n",
            " 0.73497381 0.71710131 0.69912548 0.6810579  0.66291018 0.6446939\n",
            " 0.62642066 0.60810206 0.589751   0.5713752  0.55299014 0.53460612\n",
            " 0.51623475 0.49788763 0.47957638 0.46131261 0.44310795 0.42497402\n",
            " 0.40692245 0.38896488 0.37791269 0.360353   0.34310889 0.32619167\n",
            " 0.3096127  0.2933833  0.27751482 0.26201862 0.24690605 0.23218849\n",
            " 0.21787731 0.2039839  0.19051965 0.17749596 0.16492426 0.15281595\n",
            " 0.14118247 0.13003527 0.1193858  0.10924551 0.09962589 0.09053843\n",
            " 0.08199461 0.07400596 0.066584   0.05974026 0.0534863  0.04783368\n",
            " 0.04279397 0.03837877 0.03459968 0.03146832 0.02899634 0.02719539\n",
            " 0.02607712 0.03087041]\n"
          ],
          "name": "stdout"
        },
        {
          "output_type": "execute_result",
          "data": {
            "text/plain": [
              "[<matplotlib.lines.Line2D at 0x7f016eda7128>]"
            ]
          },
          "metadata": {
            "tags": []
          },
          "execution_count": 90
        },
        {
          "output_type": "display_data",
          "data": {
            "image/png": "[encoded data removed]",
            "text/plain": [
              "<Figure size 432x288 with 1 Axes>"
            ]
          },
          "metadata": {
            "tags": [],
            "needs_background": "light"
          }
        }
      ]
    },
    {
      "cell_type": "code",
      "metadata": {
        "id": "JY-XR3Eu3mej",
        "colab_type": "code",
        "colab": {}
      },
      "source": [
        "prog=MathematicalProgram()\n",
        "N=400\n",
        "\n",
        "q_initial=[10,6,0,1,0]\n",
        "qdd_initial=[0,0,0,0,0]\n",
        "\n",
        "#variance around final value\n",
        "eps=0.1\n",
        "q_lower=q_star[0]-np.ones(5)*eps\n",
        "q_upper=q_star[0]+np.ones(5)*eps\n",
        "qd_lower=qd_star[0]-np.ones(5)*eps\n",
        "qd_upper=qd_star[0]+np.ones(5)*eps\n",
        "\n",
        "h_max=.1\n",
        "h_min=.01\n",
        "\n",
        "h=prog.NewContinuousVariables(N,1,'h') #time steps\n",
        "q=prog.NewContinuousVariables(N+1,5,'q')\n",
        "qd=prog.NewContinuousVariables(N+1,5,'qd')\n",
        "qdd=prog.NewContinuousVariables(N+1,5,'qdd')\n",
        "lambdas=prog.NewContinuousVariables(N,2,'lambdas')\n",
        "uZ=prog.NewContinuousVariables(N,1,'uZ')\n",
        "uT=prog.NewContinuousVariables(N,1,'uT')\n",
        "\n",
        "#make grounded variable pre-scheduled \n",
        "number_of_contacts=3\n",
        "grounded=get_ground_schedule(N,number_of_contacts)\n",
        "\n",
        "M=1000000\n",
        "#print(state[0])\n",
        "prog.AddLinearConstraint(eq(q[0],q_initial))\n",
        "prog.AddLinearConstraint(eq(qd[0],qd_initial))\n",
        "for t in range(N):\n",
        "  prog.AddBoundingBoxConstraint(h_min*np.ones(1),h_max*np.ones(1),h[t])\n",
        "\n",
        "  prog.AddConstraint(eq(q[t+1] , q[t] + h[t] * qd[t+1]))\n",
        "  prog.AddConstraint(eq(qd[t+1] , qd[t] + h[t] * qdd[t]))\n",
        "\n",
        "\n",
        "  var=np.concatenate((q[t],qd[t],qdd[t],uZ[t],uT[t],lambdas[t]))\n",
        "  prog.AddConstraint(manipulator_equations, lb=[0]*nq, ub=[0]*nq, vars=var) #dynamics constraint\n",
        "  \n",
        "  #y force is > 0\n",
        "  prog.AddLinearConstraint(lambdas[t,1]>=0)\n",
        "\n",
        "  #y0 is always above ground. using get_ground_height so that we can change ground geometry\n",
        "  #prog.AddConstraint(foot_height,lb=[0],ub=[(1-grounded[t])*M],vars=q[t])\n",
        "\n",
        "  #below is complimentarity constraint\n",
        "  prog.AddLinearConstraint(lambdas[t,0]<=grounded[t]*M)\n",
        "  prog.AddLinearConstraint(lambdas[t,0]>=-1*grounded[t]*M)\n",
        "\n",
        "  #if touching ground, xdot = 0, ydot=0, y=0\n",
        "\n",
        "  prog.AddLinearConstraint(lambdas[t,1]<=grounded[t]*M)\n",
        "  prog.AddLinearConstraint(q[t,1]-get_ground_height(q[t,0])<=(1-grounded[t])*M) #complimentarity\n",
        "  prog.AddLinearConstraint(q[t,1]-get_ground_height(q[t,0])>=0) #y is above 0\n",
        "  prog.AddBoundingBoxConstraint(-1*(1-grounded[t])*M,(1-grounded[t])*M,qd[t,0])#xd is 0 on ground\n",
        "  prog.AddBoundingBoxConstraint(-1*(1-grounded[t])*M,(1-grounded[t])*M,qd[t,1])#yd is 0 on ground\n",
        "  #add controller cost\n",
        "\n",
        "  prog.AddCost(uZ[t].dot(uZ[t]))\n",
        "  prog.AddCost(uT[t].dot(uT[t]))\n",
        "\n",
        "#final constraint. have q be near value that allows for periodic motion above\n",
        "prog.AddBoundingBoxConstraint(q_lower, q_upper,q[N])\n",
        "prog.AddBoundingBoxConstraint(qd_lower,q_upper,qd[N])\n",
        "\n",
        "solver=SnoptSolver()\n",
        "result=solver.Solve(prog)\n",
        "h_t=result.GetSolution(h)\n",
        "q_t=result.GetSolution(q)\n",
        "qd_t=result.GetSolution(qd)"
      ],
      "execution_count": 0,
      "outputs": []
    },
    {
      "cell_type": "code",
      "metadata": {
        "id": "zIijEo3apHMu",
        "colab_type": "code",
        "outputId": "cc9ce9f3-e34e-4d13-b929-5b341ace057d",
        "colab": {
          "base_uri": "https://localhost:8080/",
          "height": 972
        }
      },
      "source": [
        "steps=np.linspace(0,N,N+1)\n",
        "plt.figure()\n",
        "plt.plot(q_t[:,0],q_t[:,1])\n",
        "plt.figure()\n",
        "plt.plot(steps,q_t[:,2])"
      ],
      "execution_count": 0,
      "outputs": [
        {
          "output_type": "stream",
          "text": [
            "[ 2.00000000e+00  1.83605285e+00  1.67218470e+00  1.50839555e+00\n",
            "  1.34467956e+00  1.18102571e+00  1.01741713e+00  8.53828847e-01\n",
            "  6.90226278e-01  5.26559168e-01  3.62762165e-01  1.98744755e-01\n",
            "  1.82349952e-01  1.65962205e-01  1.49581634e-01  1.42638679e-01\n",
            "  1.37942050e-01  1.33432088e-01  1.29088059e-01  1.24891314e-01\n",
            "  1.20824890e-01  1.16873836e-01  1.13024592e-01  1.09263989e-01\n",
            "  1.05579789e-01  1.01959238e-01  9.83907933e-02  9.48618431e-02\n",
            "  9.13572497e-02  8.78452862e-02  8.43254074e-02  8.07970439e-02\n",
            "  7.72596009e-02  7.37124572e-02  7.01549644e-02  6.65864460e-02\n",
            "  6.30061965e-02  5.94134802e-02  5.58075306e-02  5.21875488e-02\n",
            "  4.85527030e-02  4.49021272e-02  4.12349200e-02  3.75629388e-02\n",
            "  3.38861277e-02  3.02040650e-02  2.65160651e-02  2.28212374e-02\n",
            "  1.91185332e-02  1.54067876e-02  1.16847376e-02  7.95103063e-03\n",
            "  4.20425039e-03  4.42932550e-04 -3.33444294e-03 -7.12941801e-03\n",
            " -1.09436300e-02 -1.47939227e-02 -1.86819688e-02 -2.26094990e-02\n",
            " -2.65783034e-02 -3.05902332e-02 -3.46472020e-02 -3.87511865e-02\n",
            " -4.29042288e-02 -4.71084366e-02 -5.13659853e-02 -5.56791184e-02\n",
            " -6.00501490e-02 -6.44814605e-02 -6.89755079e-02 -7.35101860e-02\n",
            " -7.80869608e-02 -8.27075500e-02 -8.73741345e-02 -9.20894893e-02\n",
            " -9.68571383e-02 -1.01681310e-01 -1.06566853e-01 -1.11519053e-01\n",
            " -1.16543426e-01 -1.21645580e-01 -1.26831109e-01 -1.32105525e-01\n",
            " -1.37474232e-01 -1.42954027e-01 -1.48548590e-01 -1.54261656e-01\n",
            " -1.60097014e-01 -1.66058502e-01 -1.72150004e-01 -1.78375439e-01\n",
            " -1.84738764e-01 -1.91243959e-01 -1.97895027e-01 -2.04695983e-01\n",
            " -2.11650849e-01 -2.18763644e-01 -2.26038375e-01 -2.33479031e-01\n",
            " -2.57987777e-01]\n"
          ],
          "name": "stdout"
        },
        {
          "output_type": "execute_result",
          "data": {
            "text/plain": [
              "[<matplotlib.lines.Line2D at 0x7f0e2f7325c0>]"
            ]
          },
          "metadata": {
            "tags": []
          },
          "execution_count": 72
        },
        {
          "output_type": "display_data",
          "data": {
            "image/png": "[encoded data removed]",
            "text/plain": [
              "<Figure size 432x288 with 1 Axes>"
            ]
          },
          "metadata": {
            "tags": [],
            "needs_background": "light"
          }
        },
        {
          "output_type": "display_data",
          "data": {
            "image/png": "[encoded data removed]",
            "text/plain": [
              "<Figure size 432x288 with 1 Axes>"
            ]
          },
          "metadata": {
            "tags": [],
            "needs_background": "light"
          }
        }
      ]
    }
  ]
}