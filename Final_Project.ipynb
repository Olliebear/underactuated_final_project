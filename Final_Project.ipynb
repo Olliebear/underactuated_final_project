{
  "nbformat": 4,
  "nbformat_minor": 0,
  "metadata": {
    "colab": {
      "name": "Final Project.ipynb",
      "provenance": [],
      "collapsed_sections": []
    },
    "kernelspec": {
      "name": "python3",
      "display_name": "Python 3"
    }
  },
  "cells": [
    {
      "cell_type": "markdown",
      "metadata": {
        "id": "d4JuI-XzRwe0",
        "colab_type": "text"
      },
      "source": [
        "Below is setup for Drake"
      ]
    },
    {
      "cell_type": "code",
      "metadata": {
        "id": "DmFdFn7RQtEg",
        "colab_type": "code",
        "colab": {}
      },
      "source": [
        "try:\n",
        "    import pydrake\n",
        "    import underactuated\n",
        "except ImportError:\n",
        "    !curl -s https://raw.githubusercontent.com/RussTedrake/underactuated/master/scripts/setup/jupyter_setup.py > jupyter_setup.py\n",
        "    from jupyter_setup import setup_underactuated\n",
        "    setup_underactuated()\n",
        "\n",
        "# Setup matplotlib.\n",
        "from IPython import get_ipython\n",
        "if get_ipython() is not None: get_ipython().run_line_magic(\"matplotlib\", \"inline\")"
      ],
      "execution_count": 0,
      "outputs": []
    },
    {
      "cell_type": "code",
      "metadata": {
        "id": "j8skup-HQwwo",
        "colab_type": "code",
        "colab": {
          "base_uri": "https://localhost:8080/",
          "height": 119
        },
        "outputId": "bb6c15bb-d3e9-4939-b051-482cb85e32de"
      },
      "source": [
        "# python libraries\n",
        "import numpy as np\n",
        "import matplotlib.pyplot as plt\n",
        "from IPython.display import HTML\n",
        "import sys \n",
        "import platform\n",
        "\n",
        "#this is needed to import my hopper.urdf file from my github\n",
        "if platform.system() == \"Darwin\":\n",
        "  get_ipython().system(u\"if [ ! -d '/opt/hopper' ]; then git clone https://github.com/Olliebear/underactuated_final_project.git /opt/hopper; fi\")\n",
        "elif platform.linux_distribution() == (\"Ubuntu\", \"18.04\", \"bionic\"):\n",
        "  get_ipython().system(u\"if [ ! -d '/opt/hopper' ]; then git clone https://github.com/Olliebear/underactuated_final_project.git /opt/hopper; fi\" )\n",
        "else:\n",
        "  assert False, \"Unsupported platform\"\n",
        "sys.path.append(\"/opt/hopper\")\n",
        "\n",
        "\n",
        "# pydrake imports\n",
        "from pydrake.all import (MultibodyPlant, Parser, DiagramBuilder, Simulator,\n",
        "                         PlanarSceneGraphVisualizer, SceneGraph, TrajectorySource,\n",
        "                         SnoptSolver, MultibodyPositionToGeometryPose, PiecewisePolynomial,\n",
        "                         MathematicalProgram, JacobianWrtVariable, eq)\n",
        "# underactuated imports\n",
        "from underactuated import FindResource"
      ],
      "execution_count": 31,
      "outputs": [
        {
          "output_type": "stream",
          "text": [
            "Cloning into '/opt/hopper'...\n",
            "remote: Enumerating objects: 10, done.\u001b[K\n",
            "remote: Counting objects:  10% (1/10)\u001b[K\rremote: Counting objects:  20% (2/10)\u001b[K\rremote: Counting objects:  30% (3/10)\u001b[K\rremote: Counting objects:  40% (4/10)\u001b[K\rremote: Counting objects:  50% (5/10)\u001b[K\rremote: Counting objects:  60% (6/10)\u001b[K\rremote: Counting objects:  70% (7/10)\u001b[K\rremote: Counting objects:  80% (8/10)\u001b[K\rremote: Counting objects:  90% (9/10)\u001b[K\rremote: Counting objects: 100% (10/10)\u001b[K\rremote: Counting objects: 100% (10/10), done.\u001b[K\n",
            "remote: Compressing objects:  11% (1/9)\u001b[K\rremote: Compressing objects:  22% (2/9)\u001b[K\rremote: Compressing objects:  33% (3/9)\u001b[K\rremote: Compressing objects:  44% (4/9)\u001b[K\rremote: Compressing objects:  55% (5/9)\u001b[K\rremote: Compressing objects:  66% (6/9)\u001b[K\rremote: Compressing objects:  77% (7/9)\u001b[K\rremote: Compressing objects:  88% (8/9)\u001b[K\rremote: Compressing objects: 100% (9/9)\u001b[K\rremote: Compressing objects: 100% (9/9), done.\u001b[K\n",
            "remote: Total 10 (delta 1), reused 10 (delta 1), pack-reused 0\u001b[K\n",
            "Unpacking objects: 100% (10/10), done.\n"
          ],
          "name": "stdout"
        }
      ]
    },
    {
      "cell_type": "markdown",
      "metadata": {
        "id": "701sqocLRutw",
        "colab_type": "text"
      },
      "source": [
        "##Define the problem's parameters:\n",
        "x0, y0 are coordinates of the foot of the 2d hopper.\n",
        "\n",
        "th1 (theta1) is the angle between the foot and the upright, th2 is angle between bode and upright.\n",
        "\n",
        "z0 is the distance from the hip pin joint to the foot. \n",
        "\n",
        "uT is torque input at pinjoint connecting leg and body. uX is length actuation on the spring in the leg. \n",
        "\n",
        "###Other parameters:\n",
        "Spring length K_length= z0 - uX.\n",
        "\n",
        "m1,I1,r1 = mass, inertia and radius from toe to C.O.M. for the leg\n",
        "\n",
        "m2,I2,r2 = mass, inertia and radius from hip to C.O.M. for the body\n",
        "\n",
        "\n",
        "#Equations of motion:\n",
        "Many different modes of dynamics. It makes sense to use Mixed-Integer MPC methods to control. Let's define our modes and the equations that go with them.\n",
        "##While in the air:\n",
        "\n",
        "\n",
        "##While on the ground:\n",
        "For now, assume infinite friction. Can add friction cone constraint later, or add more modes"
      ]
    },
    {
      "cell_type": "code",
      "metadata": {
        "id": "GXl5pwYeQzVz",
        "colab_type": "code",
        "colab": {}
      },
      "source": [
        ""
      ],
      "execution_count": 0,
      "outputs": []
    },
    {
      "cell_type": "markdown",
      "metadata": {
        "id": "IqaARnSmHM4A",
        "colab_type": "text"
      },
      "source": [
        "###Define Some System Constants"
      ]
    },
    {
      "cell_type": "code",
      "metadata": {
        "id": "ITCXrjPcHMh5",
        "colab_type": "code",
        "colab": {}
      },
      "source": [
        ""
      ],
      "execution_count": 0,
      "outputs": []
    },
    {
      "cell_type": "code",
      "metadata": {
        "id": "JTkXQqYMCDYZ",
        "colab_type": "code",
        "colab": {
          "base_uri": "https://localhost:8080/",
          "height": 198
        },
        "outputId": "826f4a29-721f-4dfd-aca3-9132a4241527"
      },
      "source": [
        "hopper=MultibodyPlant(time_step=0)\n",
        "Parser(hopper).AddModelFromFile(\"/opt/hopper/hopper.urdf\")\n",
        "hopper.Finalize()"
      ],
      "execution_count": 32,
      "outputs": [
        {
          "output_type": "error",
          "ename": "RuntimeError",
          "evalue": "ignored",
          "traceback": [
            "\u001b[0;31m---------------------------------------------------------------------------\u001b[0m",
            "\u001b[0;31mRuntimeError\u001b[0m                              Traceback (most recent call last)",
            "\u001b[0;32m<ipython-input-32-c6964116c3bd>\u001b[0m in \u001b[0;36m<module>\u001b[0;34m()\u001b[0m\n\u001b[1;32m      1\u001b[0m \u001b[0mhopper\u001b[0m\u001b[0;34m=\u001b[0m\u001b[0mMultibodyPlant\u001b[0m\u001b[0;34m(\u001b[0m\u001b[0mtime_step\u001b[0m\u001b[0;34m=\u001b[0m\u001b[0;36m0\u001b[0m\u001b[0;34m)\u001b[0m\u001b[0;34m\u001b[0m\u001b[0;34m\u001b[0m\u001b[0m\n\u001b[0;32m----> 2\u001b[0;31m \u001b[0mParser\u001b[0m\u001b[0;34m(\u001b[0m\u001b[0mhopper\u001b[0m\u001b[0;34m)\u001b[0m\u001b[0;34m.\u001b[0m\u001b[0mAddModelFromFile\u001b[0m\u001b[0;34m(\u001b[0m\u001b[0;34m\"/opt/hopper/hopper.urdf\"\u001b[0m\u001b[0;34m)\u001b[0m\u001b[0;34m\u001b[0m\u001b[0;34m\u001b[0m\u001b[0m\n\u001b[0m\u001b[1;32m      3\u001b[0m \u001b[0mhopper\u001b[0m\u001b[0;34m.\u001b[0m\u001b[0mFinalize\u001b[0m\u001b[0;34m(\u001b[0m\u001b[0;34m)\u001b[0m\u001b[0;34m\u001b[0m\u001b[0;34m\u001b[0m\u001b[0m\n",
            "\u001b[0;31mRuntimeError\u001b[0m: ERROR: Joint leg has unrecognized type: planar"
          ]
        }
      ]
    }
  ]
}