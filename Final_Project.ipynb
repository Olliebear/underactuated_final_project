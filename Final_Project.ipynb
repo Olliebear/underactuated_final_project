{
  "nbformat": 4,
  "nbformat_minor": 0,
  "metadata": {
    "colab": {
      "name": "Final Project.ipynb",
      "provenance": []
    },
    "kernelspec": {
      "name": "python3",
      "display_name": "Python 3"
    }
  },
  "cells": [
    {
      "cell_type": "markdown",
      "metadata": {
        "id": "d4JuI-XzRwe0",
        "colab_type": "text"
      },
      "source": [
        "Below is setup for Drake"
      ]
    },
    {
      "cell_type": "code",
      "metadata": {
        "id": "DmFdFn7RQtEg",
        "colab_type": "code",
        "colab": {}
      },
      "source": [
        "try:\n",
        "    import pydrake\n",
        "    import underactuated\n",
        "except ImportError:\n",
        "    !curl -s https://raw.githubusercontent.com/RussTedrake/underactuated/master/scripts/setup/jupyter_setup.py > jupyter_setup.py\n",
        "    from jupyter_setup import setup_underactuated\n",
        "    setup_underactuated()\n",
        "\n",
        "# Setup matplotlib.\n",
        "from IPython import get_ipython\n",
        "if get_ipython() is not None: get_ipython().run_line_magic(\"matplotlib\", \"inline\")"
      ],
      "execution_count": 0,
      "outputs": []
    },
    {
      "cell_type": "code",
      "metadata": {
        "id": "j8skup-HQwwo",
        "colab_type": "code",
        "colab": {}
      },
      "source": [
        "# python libraries\n",
        "import numpy as np\n",
        "import matplotlib.pyplot as plt\n",
        "from IPython.display import HTML\n",
        "\n",
        "# pydrake imports\n",
        "from pydrake.all import ()\n",
        "\n",
        "# underactuated imports\n",
        "from underactuated import FindResource"
      ],
      "execution_count": 0,
      "outputs": []
    },
    {
      "cell_type": "markdown",
      "metadata": {
        "id": "701sqocLRutw",
        "colab_type": "text"
      },
      "source": [
        "##Define the problem's parameters:\n",
        "x0, y0 are coordinates of the foot of the 2d hopper.\n",
        "\n",
        "th1 (theta1) is the angle between the foot and the upright, th2 is angle between bode and upright.\n",
        "\n",
        "z0 is the distance from the hip pin joint to the foot. \n",
        "\n",
        "uT is torque input at pinjoint connecting leg and body. uX is length actuation on the spring in the leg. \n",
        "\n",
        "###Other parameters:\n",
        "Spring length K_length= z0 - uX.\n",
        "\n",
        "m1,I1,r1 = mass, inertia and radius from toe to C.O.M. for the leg\n",
        "\n",
        "m2,I2,r2 = mass, inertia and radius from hip to C.O.M. for the body\n",
        "\n",
        "\n",
        "#Equations of motion:\n",
        "Many different modes of dynamics. It makes sense to use Mixed-Integer MPC methods to control. Let's define our modes and the equations that go with them.\n",
        "##While in the air:\n",
        "\n",
        "\n",
        "##While on the ground:\n",
        "For now, assume infinite friction. Can add friction cone constraint later, or add more modes"
      ]
    },
    {
      "cell_type": "code",
      "metadata": {
        "id": "GXl5pwYeQzVz",
        "colab_type": "code",
        "colab": {}
      },
      "source": [
        ""
      ],
      "execution_count": 0,
      "outputs": []
    }
  ]
}