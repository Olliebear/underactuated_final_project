{
  "nbformat": 4,
  "nbformat_minor": 0,
  "metadata": {
    "colab": {
      "name": "Final Project.ipynb",
      "provenance": [],
      "collapsed_sections": []
    },
    "kernelspec": {
      "name": "python3",
      "display_name": "Python 3"
    }
  },
  "cells": [
    {
      "cell_type": "markdown",
      "metadata": {
        "id": "d4JuI-XzRwe0",
        "colab_type": "text"
      },
      "source": [
        "Below is setup for Drake"
      ]
    },
    {
      "cell_type": "code",
      "metadata": {
        "id": "DmFdFn7RQtEg",
        "colab_type": "code",
        "colab": {}
      },
      "source": [
        "try:\n",
        "    import pydrake\n",
        "    import underactuated\n",
        "except ImportError:\n",
        "    !curl -s https://raw.githubusercontent.com/RussTedrake/underactuated/master/scripts/setup/jupyter_setup.py > jupyter_setup.py\n",
        "    from jupyter_setup import setup_underactuated\n",
        "    setup_underactuated()\n",
        "\n",
        "# Setup matplotlib.\n",
        "from IPython import get_ipython\n",
        "if get_ipython() is not None: get_ipython().run_line_magic(\"matplotlib\", \"inline\")"
      ],
      "execution_count": 0,
      "outputs": []
    },
    {
      "cell_type": "code",
      "metadata": {
        "id": "j8skup-HQwwo",
        "colab_type": "code",
        "colab": {}
      },
      "source": [
        "# python libraries\n",
        "import numpy as np\n",
        "import matplotlib.pyplot as plt\n",
        "from IPython.display import HTML\n",
        "import sys \n",
        "import platform\n",
        "import pydrake\n",
        "from pydrake.solvers import branch_and_bound\n",
        "\n",
        "# pydrake imports\n",
        "from pydrake.all import (MultibodyPlant, Parser, DiagramBuilder, Simulator,\n",
        "                         PlanarSceneGraphVisualizer, SceneGraph, TrajectorySource,\n",
        "                         SnoptSolver, MultibodyPositionToGeometryPose, PiecewisePolynomial,\n",
        "                         MathematicalProgram, JacobianWrtVariable, eq, LinearQuadraticRegulator,\n",
        "                         Linearize, AddMultibodyPlantSceneGraph, VectorSystem, le, ge, OsqpSolver)\n",
        "# underactuated imports\n",
        "from underactuated import FindResource"
      ],
      "execution_count": 0,
      "outputs": []
    },
    {
      "cell_type": "code",
      "metadata": {
        "id": "hRWUst5FN3-N",
        "colab_type": "code",
        "colab": {
          "base_uri": "https://localhost:8080/",
          "height": 119
        },
        "outputId": "d72f2e0b-945a-4d3c-8048-e048e91a62ae"
      },
      "source": [
        "#clears file and downloads urdf to have it be updated\n",
        "get_ipython().system(u\"rm -rf /opt/hopper\")\n",
        "if platform.system() == \"Darwin\":\n",
        "  get_ipython().system(u\"if [ ! -d '/opt/hopper' ]; then git clone https://github.com/Olliebear/underactuated_final_project.git /opt/hopper; fi\")\n",
        "elif platform.linux_distribution() == (\"Ubuntu\", \"18.04\", \"bionic\"):\n",
        "  get_ipython().system(u\"if [ ! -d '/opt/hopper' ]; then git clone https://github.com/Olliebear/underactuated_final_project.git /opt/hopper; fi\" )\n",
        "else:\n",
        "  assert False, \"Unsupported platform\"\n",
        "sys.path.append(\"/opt/hopper\")"
      ],
      "execution_count": 6,
      "outputs": [
        {
          "output_type": "stream",
          "text": [
            "Cloning into '/opt/hopper'...\n",
            "remote: Enumerating objects: 28, done.\u001b[K\n",
            "remote: Counting objects: 100% (28/28), done.\u001b[K\n",
            "remote: Compressing objects: 100% (21/21), done.\u001b[K\n",
            "remote: Total 28 (delta 13), reused 22 (delta 7), pack-reused 0\u001b[K\n",
            "Unpacking objects: 100% (28/28), done.\n"
          ],
          "name": "stdout"
        }
      ]
    },
    {
      "cell_type": "markdown",
      "metadata": {
        "id": "701sqocLRutw",
        "colab_type": "text"
      },
      "source": [
        "##Define the problem's parameters:\n",
        "x0, y0 are coordinates of the foot of the 2d hopper.\n",
        "\n",
        "th1 (theta1) is the angle between the foot and the upright, th2 is angle between bode and upright.\n",
        "\n",
        "z0 is the distance from the hip pin joint to the foot. \n",
        "\n",
        "uT is torque input at pinjoint connecting leg and body. uX is length actuation on the spring in the leg. \n",
        "\n",
        "###Other parameters:\n",
        "Spring length K_length= z0 - uX.\n",
        "\n",
        "m1,I1,r1 = mass, inertia and radius from toe to C.O.M. for the leg\n",
        "\n",
        "m2,I2,r2 = mass, inertia and radius from hip to C.O.M. for the body\n",
        "\n",
        "##While on the ground:\n",
        "For now, assume infinite friction. Can add friction cone constraint later, or add more modes"
      ]
    },
    {
      "cell_type": "markdown",
      "metadata": {
        "id": "IqaARnSmHM4A",
        "colab_type": "text"
      },
      "source": [
        "###Define Some System Constants\n",
        "Order of states: x0, y0, th1, z0, th2"
      ]
    },
    {
      "cell_type": "code",
      "metadata": {
        "id": "ITCXrjPcHMh5",
        "colab_type": "code",
        "colab": {}
      },
      "source": [
        "x_initial=[0, 3, 0, 0, 0, 0, 0, 0, 0, 0]\n",
        "\n",
        "\n",
        "# weight matrices for the lqr controller\n",
        "Q = np.eye(10)\n",
        "R = np.eye(4)"
      ],
      "execution_count": 0,
      "outputs": []
    },
    {
      "cell_type": "markdown",
      "metadata": {
        "id": "AHuwvXLrPMsQ",
        "colab_type": "text"
      },
      "source": [
        "# **Some info here**\n",
        "In general, this code is a bit of a crap heap. Sorry. Lots of things/ideas going on here that I'm working on. The next few blocks though are the main part I think.\n",
        "\n",
        "The problem is I need a better solver to actually solve my mathematical program, but I'm not sure how to get that onto this colab machine remotely. I'd imagine there's licensing issues. \n",
        "\n",
        "Also, it would be difficult for me to install drake on my personal computer because it would involve updating my OS (to get python 3.8)"
      ]
    },
    {
      "cell_type": "code",
      "metadata": {
        "id": "JTkXQqYMCDYZ",
        "colab_type": "code",
        "colab": {
          "base_uri": "https://localhost:8080/",
          "height": 34
        },
        "outputId": "575c967d-186f-4c9a-959d-b1cd90dbabc0"
      },
      "source": [
        "\n",
        "builder=DiagramBuilder()\n",
        "hopper, scene_graph = AddMultibodyPlantSceneGraph(builder, time_step=0.0)\n",
        "Parser(hopper).AddModelFromFile('/opt/hopper/hopper.urdf')\n",
        "hopper.Finalize()\n",
        "hopper=hopper.ToAutoDiffXd()\n",
        "\n",
        "nq=hopper.num_positions()\n",
        "print(nq)\n",
        "nf=4 # 2 inputs ux ut and 2 contact forces\n",
        "\n",
        "context=hopper.CreateDefaultContext()\n",
        "context.SetTime(0)\n"
      ],
      "execution_count": 36,
      "outputs": [
        {
          "output_type": "stream",
          "text": [
            "5\n"
          ],
          "name": "stdout"
        }
      ]
    },
    {
      "cell_type": "code",
      "metadata": {
        "id": "MBS-xiPl2Fyk",
        "colab_type": "code",
        "colab": {}
      },
      "source": [
        "def manipulator_equations(vars):\n",
        "    \n",
        "    # split input vector in subvariables\n",
        "    # configuration, velocity, acceleration, stance-foot force\n",
        "    assert vars.size == 3 * nq + nf\n",
        "    split_at = [nq, 2 * nq, 3 * nq , 3*nq+2]\n",
        "    q, qd, qdd, u, f = np.split(vars, split_at)\n",
        "    \n",
        "    u[0]=get_spring_force(q[3],u[0])\n",
        "\n",
        "    # set compass gait state\n",
        "    context = hopper.CreateDefaultContext()\n",
        "    hopper.SetPositions(context, q)\n",
        "    hopper.SetVelocities(context, qd)\n",
        "    \n",
        "    # matrices for the manipulator equations\n",
        "    M = hopper.CalcMassMatrixViaInverseDynamics(context)\n",
        "    Cv = hopper.CalcBiasTerm(context)\n",
        "    tauG = hopper.CalcGravityGeneralizedForces(context)\n",
        "    \n",
        "    # Jacobian of the stance foot\n",
        "    Jf = get_foot_jacobian(hopper, context)\n",
        "    Jh = get_hip_jacobian(hopper, context)\n",
        "    Jx = get_slide_jacobian(hopper,context)\n",
        "    \n",
        "    # return violation of the manipulator equations\n",
        "    return M.dot(qdd) + Cv - tauG - Jf.T.dot(f) - Jh.T.dot(u[1]) - Jx.T.dot(u[0])"
      ],
      "execution_count": 0,
      "outputs": []
    },
    {
      "cell_type": "code",
      "metadata": {
        "id": "4_PcrvB62WTR",
        "colab_type": "code",
        "colab": {}
      },
      "source": [
        "def foot_height(q):\n",
        "    \n",
        "    # get reference frames for the swing leg and the ground\n",
        "    leg_frame = hopper.GetBodyByName('leg').body_frame()\n",
        "    ground_frame = hopper.GetBodyByName('ground').body_frame()\n",
        "    \n",
        "    # position of the swing foot in ground coordinates\n",
        "    context = hopper.CreateDefaultContext()\n",
        "    hopper.SetPositions(context, q)\n",
        "    swing_foot_position = hopper.CalcPointsPositions(\n",
        "        context,\n",
        "        leg_frame,\n",
        "        np.array([0,0,0]), #position of foot relative to leg\n",
        "        ground_frame\n",
        "    )\n",
        "    ground_h=get_ground_height(q[0])\n",
        "    # return only the coordinate z\n",
        "    # (distance normal to the ground)\n",
        "    return swing_foot_position[-1]-ground_h"
      ],
      "execution_count": 0,
      "outputs": []
    },
    {
      "cell_type": "code",
      "metadata": {
        "id": "CDOY8xkt436r",
        "colab_type": "code",
        "colab": {}
      },
      "source": [
        "def get_foot_jacobian(hopper, context):\n",
        "    \n",
        "    # get reference frames for the given leg and the ground\n",
        "    leg_frame = hopper.GetBodyByName('leg').body_frame()\n",
        "    ground_frame = hopper.GetBodyByName('ground').body_frame()\n",
        "\n",
        "    # compute Jacobian matrix\n",
        "    J = hopper.CalcJacobianTranslationalVelocity(\n",
        "        context,\n",
        "        JacobianWrtVariable(0),\n",
        "        leg_frame,\n",
        "        np.array([0,0,0]),\n",
        "        ground_frame,\n",
        "        ground_frame\n",
        "    )\n",
        "    \n",
        "    # discard y components since we are in 2D\n",
        "    return J[[0, 2]]"
      ],
      "execution_count": 0,
      "outputs": []
    },
    {
      "cell_type": "code",
      "metadata": {
        "id": "C3QapUzl6-S7",
        "colab_type": "code",
        "colab": {}
      },
      "source": [
        "def get_hip_jacobian(hopper, context):\n",
        "    \n",
        "    # get reference frames for the given leg and the ground\n",
        "    body_frame = hopper.GetBodyByName('body').body_frame()\n",
        "    slide_frame = hopper.GetBodyByName('slide').body_frame()\n",
        "    ground_frame = hopper.GetBodyByName('ground').body_frame()\n",
        "\n",
        "    # compute Jacobian matrix\n",
        "    J = hopper.CalcJacobianAngularVelocity(\n",
        "        context,\n",
        "        JacobianWrtVariable(0),\n",
        "        body_frame,\n",
        "        slide_frame,\n",
        "        ground_frame\n",
        "    )\n",
        "    print(\"Get hip jacobian. J:\")\n",
        "    print(J)\n",
        "    # discard y components since we are in 2D\n",
        "    #not sure if this is correct\n",
        "    print(\"J[[0,2]]:\")\n",
        "    print (J[[0, 2]])\n",
        "    return J[[0, 2]]"
      ],
      "execution_count": 0,
      "outputs": []
    },
    {
      "cell_type": "code",
      "metadata": {
        "id": "-4QrUtUz8YYD",
        "colab_type": "code",
        "colab": {}
      },
      "source": [
        "def get_ground_height(x):\n",
        "  #use this to get the height at some position x. can change to have variable terrain\n",
        "  return 0"
      ],
      "execution_count": 0,
      "outputs": []
    },
    {
      "cell_type": "code",
      "metadata": {
        "id": "QYqT2Y4j8hg1",
        "colab_type": "code",
        "colab": {}
      },
      "source": [
        "def get_slide_jacobian(hopper, context):\n",
        "    \n",
        "    # get reference frames for the given leg and the ground\n",
        "    slide_frame = hopper.GetBodyByName('slide').body_frame()\n",
        "    leg_frame = hopper.GetBodyByName('leg').body_frame()\n",
        "    ground_frame = hopper.GetBodyByName('ground').body_frame()\n",
        "\n",
        "\n",
        "    # compute Jacobian matrix\n",
        "    J = hopper.CalcJacobianTranslationalVelocity(\n",
        "        context,\n",
        "        JacobianWrtVariable(0),\n",
        "        slide_frame,\n",
        "        np.array([0,0,0]),\n",
        "        leg_frame,\n",
        "        ground_frame\n",
        "    )\n",
        "    print(\"slide jacobian J:\")\n",
        "    print(J)\n",
        "    #not sure if this is correct\n",
        "\n",
        "    # discard y components since we are in 2D\n",
        "    return J[[0, 2]]"
      ],
      "execution_count": 0,
      "outputs": []
    },
    {
      "cell_type": "code",
      "metadata": {
        "id": "JY-XR3Eu3mej",
        "colab_type": "code",
        "colab": {
          "base_uri": "https://localhost:8080/",
          "height": 252
        },
        "outputId": "0c113db6-8e9a-4b22-ecbe-69d11014513e"
      },
      "source": [
        "prog=MathematicalProgram()\n",
        "N=50\n",
        "dt=0.01\n",
        "time_steps=int(N/dt)\n",
        "\n",
        "q=prog.NewContinuousVariables(N+1,5,'q')\n",
        "qd=prog.NewContinuousVariables(N+1,5,'qd')\n",
        "qdd=prog.NewContinuousVariables(N+1,5,'qdd')\n",
        "lambdas=prog.NewContinuousVariables(N,2,'lambdas')\n",
        "uX=prog.NewContinuousVariables(N,2,'uX')\n",
        "uT=prog.NewContinuousVariables(N,1,'uT')\n",
        "grounded=prog.NewBinaryVariables(N,1,'grounded')\n",
        "\n",
        "M=1000000\n",
        "\n",
        "#print(state[0])\n",
        "\n",
        "\n",
        "for t in range(N):\n",
        "\n",
        "  prog.AddLinearConstraint(eq(q[t+1] , q[t] + dt * qd[t+1]))\n",
        "  prog.AddLinearConstraint(eq(qd[t+1] , qd[t] + dt * qdd[t]))\n",
        "\n",
        "\n",
        "  var=np.concatenate((q[t],qd[t],qdd[t],uX[t],uT[t],lambdas[t]))\n",
        "  prog.AddConstraint(manipulator_equations, lb=[0]*nq, ub=[0]*nq, vars=var) #dynamics constraint\n",
        "  \n",
        "  #y force is > 0\n",
        "  prog.AddLinearConstraint(lambdas[t,1]>=0)\n",
        "\n",
        "  #y0 is always above ground. using get_ground_height so that we can change ground geometry\n",
        "  #prog.AddConstraint(foot_height,lb=[0],ub=[(1-grounded[t])*M],vars=q[t])\n",
        "\n",
        "  #below is complimentarity constraint\n",
        "  prog.AddLinearConstraint(le(lambdas[t,0],grounded[t]*M))\n",
        "  prog.AddLinearConstraint(ge(lambdas[t,0],-1*grounded[t]*M))\n",
        "\n",
        "  prog.AddLinearConstraint(le(lambdas[t,1],grounded[t]*M))\n",
        "  prog.AddLinearConstraint(le(q[t,1]-get_ground_height(q[t,0]),(1-grounded[t])*M))\n",
        "  \n",
        "  #add controller cost\n",
        "  prog.AddCost(uX[t].dot(uX[t]))\n",
        "  prog.AddCost(uT[t].dot(uT[t]))\n",
        "  prog.AddCost(q[t].dot(q[t]))\n",
        "\n",
        "solver=SnoptSolver()\n",
        "result=solver.Solve(prog)\n",
        "\n",
        "#bb = branch_and_bound.MixedIntegerBranchAndBound(prog, OsqpSolver().solver_id())\n",
        "#result = bb.Solve()"
      ],
      "execution_count": 85,
      "outputs": [
        {
          "output_type": "error",
          "ename": "ValueError",
          "evalue": "ignored",
          "traceback": [
            "\u001b[0;31m---------------------------------------------------------------------------\u001b[0m",
            "\u001b[0;31mValueError\u001b[0m                                Traceback (most recent call last)",
            "\u001b[0;32m<ipython-input-85-1f1dbf635fa0>\u001b[0m in \u001b[0;36m<module>\u001b[0;34m()\u001b[0m\n\u001b[1;32m     45\u001b[0m \u001b[0;34m\u001b[0m\u001b[0m\n\u001b[1;32m     46\u001b[0m \u001b[0msolver\u001b[0m\u001b[0;34m=\u001b[0m\u001b[0mSnoptSolver\u001b[0m\u001b[0;34m(\u001b[0m\u001b[0;34m)\u001b[0m\u001b[0;34m\u001b[0m\u001b[0;34m\u001b[0m\u001b[0m\n\u001b[0;32m---> 47\u001b[0;31m \u001b[0mresult\u001b[0m\u001b[0;34m=\u001b[0m\u001b[0msolver\u001b[0m\u001b[0;34m.\u001b[0m\u001b[0mSolve\u001b[0m\u001b[0;34m(\u001b[0m\u001b[0mprog\u001b[0m\u001b[0;34m)\u001b[0m\u001b[0;34m\u001b[0m\u001b[0;34m\u001b[0m\u001b[0m\n\u001b[0m\u001b[1;32m     48\u001b[0m \u001b[0;34m\u001b[0m\u001b[0m\n\u001b[1;32m     49\u001b[0m \u001b[0;31m#bb = branch_and_bound.MixedIntegerBranchAndBound(prog, OsqpSolver().solver_id())\u001b[0m\u001b[0;34m\u001b[0m\u001b[0;34m\u001b[0m\u001b[0;34m\u001b[0m\u001b[0m\n",
            "\u001b[0;31mValueError\u001b[0m: The capabilities of drake::solvers::SnoptSolver do not meet the requirements of the MathematicalProgram ({ProgramAttributes: GenericConstraint, QuadraticCost, LinearConstraint, LinearEqualityConstraint, BinaryVariable})"
          ]
        }
      ]
    },
    {
      "cell_type": "code",
      "metadata": {
        "id": "8Ro1jkky0y7h",
        "colab_type": "code",
        "colab": {}
      },
      "source": [
        "def get_spring_force(z0,uX):\n",
        "  k=1000 #spring constant\n",
        "  kL=1 #relaxed length\n",
        "\n",
        "  return(-k*(kL-z0+uX))"
      ],
      "execution_count": 0,
      "outputs": []
    },
    {
      "cell_type": "markdown",
      "metadata": {
        "id": "YQtFoXFOPHgk",
        "colab_type": "text"
      },
      "source": [
        "Ok stuff below this was me trying things out"
      ]
    },
    {
      "cell_type": "code",
      "metadata": {
        "id": "xRMgAxdi1KGf",
        "colab_type": "code",
        "colab": {}
      },
      "source": [
        ""
      ],
      "execution_count": 0,
      "outputs": []
    },
    {
      "cell_type": "code",
      "metadata": {
        "id": "Vaf2V9xwOOSP",
        "colab_type": "code",
        "colab": {}
      },
      "source": [
        "class Spring(VectorSystem):\n",
        "    def __init__(self):\n",
        "        \n",
        "        # 5 inputs: hopper state and spring preload delta\n",
        "        # 1 output: spring force\n",
        "        VectorSystem.__init__(self, 10,  1)\n",
        "        \n",
        "        # spring stiffness\n",
        "        self.k = 1000\n",
        "\n",
        "    # note that this function is called at each time step\n",
        "    def DoCalcVectorOutput(self, context, state_delta, unused, spring_force):\n",
        "        \n",
        "        # set the output of the spring block to\n",
        "        # the value of the elastic force\n",
        "        l = state_delta[3]\n",
        "        delta = state_delta[10]\n",
        "        spring_force[:] = [- self.k * (l + delta)]"
      ],
      "execution_count": 0,
      "outputs": []
    },
    {
      "cell_type": "markdown",
      "metadata": {
        "id": "IbsIdrdtlMUp",
        "colab_type": "text"
      },
      "source": [
        "This next function calculates the derivative of the state variables by running a solver on the dynamics equations. \n",
        "\n",
        "Because the dynamics change whether the robot is touching the ground or not, we keep track of a boolean \"in_air\" that tells us whether we are in the air or not.\n",
        "\n",
        "Its defined as a function separate from my Hopper_Dynamics Class below to let me call it as a constraint for optimization"
      ]
    },
    {
      "cell_type": "code",
      "metadata": {
        "id": "CuuTtvBEbLqK",
        "colab_type": "code",
        "colab": {}
      },
      "source": [
        "def calc_dstate(state,uX,uT,lam): \n",
        "  #uses solver to solve dyanmics equations to get derivative of state. dx/dt\n",
        "\n",
        "  #define state variables\n",
        "  x0=state[0]\n",
        "  y0=state[1]\n",
        "  th1=state[2]\n",
        "  z0=state[3]\n",
        "  th2=state[4]\n",
        "  #and their derivatives\n",
        "  dx0=state[5]\n",
        "  dy0=state[6]\n",
        "  dth1=state[7]\n",
        "  dz0=state[8]\n",
        "  dth2=state[9]\n",
        "\n",
        "  #get contact forces\n",
        "  Fx=lam[0]\n",
        "  Fy=lam[1]\n",
        "\n",
        "  #define constants\n",
        "  r1=0.5\n",
        "  r2=0.7\n",
        "  m1=10\n",
        "  m2=10\n",
        "  I1=10\n",
        "  I2=10\n",
        "  k=1000\n",
        "  kL=1 #relaxed length\n",
        "  g=9.81\n",
        "\n",
        "  #intermediates:\n",
        "  W=z0-r1\n",
        "  s1=pydrake.symbolic.sin(th1)\n",
        "  s2=pydrake.symbolic.sin(th2)\n",
        "  c1=pydrake.symbolic.cos(th1)\n",
        "  c2=pydrake.symbolic.cos(th2)\n",
        "  c21=pydrake.symbolic.cos(th2-th1)\n",
        "  s21=pydrake.symbolic.sin(th2-th1)\n",
        "  spring=-k*(kL-z0+uX)\n",
        "\n",
        "  prog=MathematicalProgram()\n",
        "\n",
        "  ddx0=prog.NewContinuousVariables(1,\"ddx0\")\n",
        "  ddy0=prog.NewContinuousVariables(1,\"ddy0\")\n",
        "  ddth1=prog.NewContinuousVariables(1,\"ddth1\")\n",
        "  ddz0=prog.NewContinuousVariables(1,\"ddz0\")\n",
        "  ddth2=prog.NewContinuousVariables(1,\"ddth2\")\n",
        "\n",
        "  print((c1*(m2*W*z0+I1)*ddth1 + m2*r2*W*c2*ddth2 + m2*W*ddx0 + m2*W*s1*ddz0)[0])\n",
        "  print(W*m2*(dth1**2*W*s1 - 2*dth1*dz0*c1 + r2*dth2**2*s2 + r1*dth1**2*s2) - r1*Fx*c1**2 + (r1*Fy*s1-uT)*c1 + spring*W*s1)\n",
        "\n",
        "  prog.AddConstraint( (c1*(m2*W*z0+I1)*ddth1 + m2*r2*W*c2*ddth2 + m2*W*ddx0 + m2*W*s1*ddz0)[0] == (W*m2*(dth1**2*W*s1 - 2*dth1*dz0*c1 + r2*dth2**2*s2 + r1*dth1**2*s2) - r1*Fx*c1**2 + (r1*Fy*s1-uT)*c1 + spring*W*s1)[0])\n",
        "  prog.AddConstraint(-s1*(m2*W*z0+I1)*ddth1 - m2*r2*W*s2*ddth2 +m2*W*ddy0 +m2*W*c1*ddz0 \n",
        "                         == W*m2*(dth1**2*W*c1 + 2*dth1*dz0*s1 + r2*dth2**2*c2 + r1*dth1**2*c1 - g) + r1*Fx*c1*s1\n",
        "                         -(r1*Fy*c1-uT)*s1 + spring*W*c1)\n",
        "  prog.AddConstraint( c1*(m1*r1*W-I1)*ddth1 +m1*W*ddx0 \n",
        "                         ==W*(m1*r1*dth1**2*s1 - spring*s1 + Fx) - c1*(Fy*r1*s1-Fx*r1*c1-uT))\n",
        "  prog.AddConstraint(-s1*(m1*r1*W-I1)*ddth1 +m1*W*ddy0 \n",
        "                         ==W*(m1*r1*dth1**2*c1 - spring*c1 + Fy - m1*g) - s1*(Fy*r1*s1 -Fx*r1*c1-uT))\n",
        "  prog.AddConstraint(-c21*I1*r2*ddth1 + I2*z0*ddth2 \n",
        "                         == W*(spring*r2*s21+uT) - r2*c21*(r1*Fy*s1 - r1*Fx*c1 - uT))\n",
        "  solver=SnoptSolver()\n",
        "  result=solver.solve(prog)\n",
        "  ddx0_r=result.GetSolution(ddx0)\n",
        "  ddy0_r=result.GetSolution(ddy0)\n",
        "  ddth1_r=result.GetSolution(ddth1)\n",
        "  ddz0_r=result.GetSolution(ddz0)\n",
        "  ddth2_r=result.GetSolution(ddth2)\n",
        "  dstate=[dx0, dy0, dth1, dz0, dth2, ddx0_r, ddy0_r, ddth1_r, ddz0_r, ddth2_r]\n",
        "  return dstate"
      ],
      "execution_count": 0,
      "outputs": []
    },
    {
      "cell_type": "markdown",
      "metadata": {
        "id": "Ia_EiSvulI5W",
        "colab_type": "text"
      },
      "source": [
        "Helper function for computing forward euler:"
      ]
    },
    {
      "cell_type": "code",
      "metadata": {
        "id": "JXPIOxmBkaKz",
        "colab_type": "code",
        "colab": {}
      },
      "source": [
        "def forward_euler(state,dstate,dt):\n",
        "    for i,q in enumerate(state):\n",
        "      state_next[i] = state[i] + dstate[i]*dt\n",
        "    return state_next"
      ],
      "execution_count": 0,
      "outputs": []
    },
    {
      "cell_type": "markdown",
      "metadata": {
        "id": "0LqSO5jEmkNQ",
        "colab_type": "text"
      },
      "source": [
        "Below is vector system for intaking current state and control efforts and outputing the state at the next time step"
      ]
    },
    {
      "cell_type": "code",
      "metadata": {
        "id": "nDRVpG39HkkZ",
        "colab_type": "code",
        "colab": {}
      },
      "source": [
        "class Hopper_Dyanmics(VectorSystem):\n",
        "  def __init__(self, dt):\n",
        "    #13 inputs: 10 state variables, 2 inputs (torque and position), one bool (in air)\n",
        "    #10 outputs: state at next step\n",
        "\n",
        "    VectorSystem.__init__(self,13,10)\n",
        "    \n",
        "    #set dt for euler forward approx for state\n",
        "    self.dt=dt\n",
        "\n",
        "  def DoCalcVectorOutput(self, context, state_uX_uT_in_air, unused, next_state):\n",
        "    state = state_uX_uT_in_air[0:9]\n",
        "    uX=state_uX_uT_in_air[10]\n",
        "    uT=state_uX_uT_in_air[11]\n",
        "    in_air=state_uX_uT_in_air[12]\n",
        "\n",
        "    dstate=calc_dstate(state,uX,uT,in_air)\n",
        "\n",
        "    next_state[:] = forward_euler(state,dstate,self.dt)"
      ],
      "execution_count": 0,
      "outputs": []
    },
    {
      "cell_type": "code",
      "metadata": {
        "id": "qauDF6pryZUb",
        "colab_type": "code",
        "colab": {
          "base_uri": "https://localhost:8080/",
          "height": 405
        },
        "outputId": "39fa97bd-51ac-453b-91a9-c5a9e61cd106"
      },
      "source": [
        "prog=MathematicalProgram()\n",
        "N=50\n",
        "dt=0.01\n",
        "time_steps=int(N/dt)\n",
        "\n",
        "state=prog.NewContinuousVariables(N+1,10,'state')\n",
        "lambdas=prog.NewContinuousVariables(N,2,'lambdas')\n",
        "uX=prog.NewContinuousVariables(N,1,'uX')\n",
        "uT=prog.NewContinuousVariables(N,1,'uT')\n",
        "grounded=prog.NewBinaryVariables(N,1,'grounded')\n",
        "\n",
        "M=1000000\n",
        "\n",
        "#print(state[0])\n",
        "\n",
        "\n",
        "for t in range(time_steps):\n",
        "  prog.AddConstraint(state[t+1] == forward_euler(state[t], calc_dstate(state[t],uX[t],uT[t],lambdas[t]),dt)) #dynamics constraint\n",
        "  \n",
        "  #forces are > 0 (Fx can be negative, so abs(Fx)>0)\n",
        "  prog.AddConstraint(abs(lambdas[t,0])>=0)\n",
        "  prog.AddConstraint(lambdas[t,1]>=0)\n",
        "\n",
        "  #y0 is always above ground. using get_ground_height so that we can change ground geometry\n",
        "  prog.AddConstraint((state[t,1]-get_ground_height(state[t,0]))>=0)\n",
        "\n",
        "  #below is complimentarity constraint\n",
        "  prog.AddConstraint(abs(lambdas[t,0])<=grounded[t]*M)\n",
        "  prog.AddConstraint(lambdas[t,1]<=grounded[t]*M)\n",
        "  prog.AddConstraint((state[t,1]-get_ground_height(state[t,0]))<=(1-grounded[t])*M)\n",
        "  \n",
        "  #add controller cost\n",
        "  prog.AddCost(uX[t]**2)\n",
        "  prog.AddCost(uT[t]**2)\n",
        "  prog.AddCost(state[t].dot(state[t]))\n",
        "\n",
        "solver=SnoptSolver()\n",
        "result=solver.Solve(prog)\n"
      ],
      "execution_count": 55,
      "outputs": [
        {
          "output_type": "stream",
          "text": [
            "(10 * (ddx0(0) * (-0.5 + state(0,3))) + (ddth1(0) * (10 + 10 * (state(0,3) * (-0.5 + state(0,3)))) * cos(state(0,2))) + 10 * (ddz0(0) * (-0.5 + state(0,3)) * sin(state(0,2))) + 7 * (ddth2(0) * (-0.5 + state(0,3)) * cos(state(0,4))))\n",
            "[<Expression \"( - 0.5 * (lambdas(0,0) * pow(cos(state(0,2)), 2)) + 10 * ((-0.5 + state(0,3)) * ( - 2 * (state(0,7) * state(0,8) * cos(state(0,2))) + (pow(state(0,7), 2) * (-0.5 + state(0,3)) * sin(state(0,2))) + 0.5 * (pow(state(0,7), 2) * sin(state(0,4))) + 0.69999999999999996 * (pow(state(0,9), 2) * sin(state(0,4))))) - 1000 * ((-0.5 + state(0,3)) * (1 - state(0,3) + uX(0)) * sin(state(0,2))) + (( - uT(0) + 0.5 * (lambdas(0,1) * sin(state(0,2)))) * cos(state(0,2))))\">]\n"
          ],
          "name": "stdout"
        },
        {
          "output_type": "error",
          "ename": "RuntimeError",
          "evalue": "ignored",
          "traceback": [
            "\u001b[0;31m---------------------------------------------------------------------------\u001b[0m",
            "\u001b[0;31mRuntimeError\u001b[0m                              Traceback (most recent call last)",
            "\u001b[0;32m<ipython-input-55-9abace625b37>\u001b[0m in \u001b[0;36m<module>\u001b[0;34m()\u001b[0m\n\u001b[1;32m     16\u001b[0m \u001b[0;34m\u001b[0m\u001b[0m\n\u001b[1;32m     17\u001b[0m \u001b[0;32mfor\u001b[0m \u001b[0mt\u001b[0m \u001b[0;32min\u001b[0m \u001b[0mrange\u001b[0m\u001b[0;34m(\u001b[0m\u001b[0mtime_steps\u001b[0m\u001b[0;34m)\u001b[0m\u001b[0;34m:\u001b[0m\u001b[0;34m\u001b[0m\u001b[0;34m\u001b[0m\u001b[0m\n\u001b[0;32m---> 18\u001b[0;31m   \u001b[0mprog\u001b[0m\u001b[0;34m.\u001b[0m\u001b[0mAddConstraint\u001b[0m\u001b[0;34m(\u001b[0m\u001b[0mstate\u001b[0m\u001b[0;34m[\u001b[0m\u001b[0mt\u001b[0m\u001b[0;34m+\u001b[0m\u001b[0;36m1\u001b[0m\u001b[0;34m]\u001b[0m \u001b[0;34m==\u001b[0m \u001b[0mforward_euler\u001b[0m\u001b[0;34m(\u001b[0m\u001b[0mstate\u001b[0m\u001b[0;34m[\u001b[0m\u001b[0mt\u001b[0m\u001b[0;34m]\u001b[0m\u001b[0;34m,\u001b[0m \u001b[0mcalc_dstate\u001b[0m\u001b[0;34m(\u001b[0m\u001b[0mstate\u001b[0m\u001b[0;34m[\u001b[0m\u001b[0mt\u001b[0m\u001b[0;34m]\u001b[0m\u001b[0;34m,\u001b[0m\u001b[0muX\u001b[0m\u001b[0;34m[\u001b[0m\u001b[0mt\u001b[0m\u001b[0;34m]\u001b[0m\u001b[0;34m,\u001b[0m\u001b[0muT\u001b[0m\u001b[0;34m[\u001b[0m\u001b[0mt\u001b[0m\u001b[0;34m]\u001b[0m\u001b[0;34m,\u001b[0m\u001b[0mlambdas\u001b[0m\u001b[0;34m[\u001b[0m\u001b[0mt\u001b[0m\u001b[0;34m]\u001b[0m\u001b[0;34m)\u001b[0m\u001b[0;34m,\u001b[0m\u001b[0mdt\u001b[0m\u001b[0;34m)\u001b[0m\u001b[0;34m)\u001b[0m \u001b[0;31m#dynamics constraint\u001b[0m\u001b[0;34m\u001b[0m\u001b[0;34m\u001b[0m\u001b[0m\n\u001b[0m\u001b[1;32m     19\u001b[0m \u001b[0;34m\u001b[0m\u001b[0m\n\u001b[1;32m     20\u001b[0m   \u001b[0;31m#forces are > 0 (Fx can be negative, so abs(Fx)>0)\u001b[0m\u001b[0;34m\u001b[0m\u001b[0;34m\u001b[0m\u001b[0;34m\u001b[0m\u001b[0m\n",
            "\u001b[0;32m<ipython-input-54-4007e980ca11>\u001b[0m in \u001b[0;36mcalc_dstate\u001b[0;34m(state, uX, uT, lam)\u001b[0m\n\u001b[1;32m     51\u001b[0m   \u001b[0mprint\u001b[0m\u001b[0;34m(\u001b[0m\u001b[0mW\u001b[0m\u001b[0;34m*\u001b[0m\u001b[0mm2\u001b[0m\u001b[0;34m*\u001b[0m\u001b[0;34m(\u001b[0m\u001b[0mdth1\u001b[0m\u001b[0;34m**\u001b[0m\u001b[0;36m2\u001b[0m\u001b[0;34m*\u001b[0m\u001b[0mW\u001b[0m\u001b[0;34m*\u001b[0m\u001b[0ms1\u001b[0m \u001b[0;34m-\u001b[0m \u001b[0;36m2\u001b[0m\u001b[0;34m*\u001b[0m\u001b[0mdth1\u001b[0m\u001b[0;34m*\u001b[0m\u001b[0mdz0\u001b[0m\u001b[0;34m*\u001b[0m\u001b[0mc1\u001b[0m \u001b[0;34m+\u001b[0m \u001b[0mr2\u001b[0m\u001b[0;34m*\u001b[0m\u001b[0mdth2\u001b[0m\u001b[0;34m**\u001b[0m\u001b[0;36m2\u001b[0m\u001b[0;34m*\u001b[0m\u001b[0ms2\u001b[0m \u001b[0;34m+\u001b[0m \u001b[0mr1\u001b[0m\u001b[0;34m*\u001b[0m\u001b[0mdth1\u001b[0m\u001b[0;34m**\u001b[0m\u001b[0;36m2\u001b[0m\u001b[0;34m*\u001b[0m\u001b[0ms2\u001b[0m\u001b[0;34m)\u001b[0m \u001b[0;34m-\u001b[0m \u001b[0mr1\u001b[0m\u001b[0;34m*\u001b[0m\u001b[0mFx\u001b[0m\u001b[0;34m*\u001b[0m\u001b[0mc1\u001b[0m\u001b[0;34m**\u001b[0m\u001b[0;36m2\u001b[0m \u001b[0;34m+\u001b[0m \u001b[0;34m(\u001b[0m\u001b[0mr1\u001b[0m\u001b[0;34m*\u001b[0m\u001b[0mFy\u001b[0m\u001b[0;34m*\u001b[0m\u001b[0ms1\u001b[0m\u001b[0;34m-\u001b[0m\u001b[0muT\u001b[0m\u001b[0;34m)\u001b[0m\u001b[0;34m*\u001b[0m\u001b[0mc1\u001b[0m \u001b[0;34m+\u001b[0m \u001b[0mspring\u001b[0m\u001b[0;34m*\u001b[0m\u001b[0mW\u001b[0m\u001b[0;34m*\u001b[0m\u001b[0ms1\u001b[0m\u001b[0;34m)\u001b[0m\u001b[0;34m\u001b[0m\u001b[0;34m\u001b[0m\u001b[0m\n\u001b[1;32m     52\u001b[0m \u001b[0;34m\u001b[0m\u001b[0m\n\u001b[0;32m---> 53\u001b[0;31m   \u001b[0mprog\u001b[0m\u001b[0;34m.\u001b[0m\u001b[0mAddConstraint\u001b[0m\u001b[0;34m(\u001b[0m \u001b[0;34m(\u001b[0m\u001b[0mc1\u001b[0m\u001b[0;34m*\u001b[0m\u001b[0;34m(\u001b[0m\u001b[0mm2\u001b[0m\u001b[0;34m*\u001b[0m\u001b[0mW\u001b[0m\u001b[0;34m*\u001b[0m\u001b[0mz0\u001b[0m\u001b[0;34m+\u001b[0m\u001b[0mI1\u001b[0m\u001b[0;34m)\u001b[0m\u001b[0;34m*\u001b[0m\u001b[0mddth1\u001b[0m \u001b[0;34m+\u001b[0m \u001b[0mm2\u001b[0m\u001b[0;34m*\u001b[0m\u001b[0mr2\u001b[0m\u001b[0;34m*\u001b[0m\u001b[0mW\u001b[0m\u001b[0;34m*\u001b[0m\u001b[0mc2\u001b[0m\u001b[0;34m*\u001b[0m\u001b[0mddth2\u001b[0m \u001b[0;34m+\u001b[0m \u001b[0mm2\u001b[0m\u001b[0;34m*\u001b[0m\u001b[0mW\u001b[0m\u001b[0;34m*\u001b[0m\u001b[0mddx0\u001b[0m \u001b[0;34m+\u001b[0m \u001b[0mm2\u001b[0m\u001b[0;34m*\u001b[0m\u001b[0mW\u001b[0m\u001b[0;34m*\u001b[0m\u001b[0ms1\u001b[0m\u001b[0;34m*\u001b[0m\u001b[0mddz0\u001b[0m\u001b[0;34m)\u001b[0m\u001b[0;34m[\u001b[0m\u001b[0;36m0\u001b[0m\u001b[0;34m]\u001b[0m \u001b[0;34m==\u001b[0m \u001b[0;34m(\u001b[0m\u001b[0mW\u001b[0m\u001b[0;34m*\u001b[0m\u001b[0mm2\u001b[0m\u001b[0;34m*\u001b[0m\u001b[0;34m(\u001b[0m\u001b[0mdth1\u001b[0m\u001b[0;34m**\u001b[0m\u001b[0;36m2\u001b[0m\u001b[0;34m*\u001b[0m\u001b[0mW\u001b[0m\u001b[0;34m*\u001b[0m\u001b[0ms1\u001b[0m \u001b[0;34m-\u001b[0m \u001b[0;36m2\u001b[0m\u001b[0;34m*\u001b[0m\u001b[0mdth1\u001b[0m\u001b[0;34m*\u001b[0m\u001b[0mdz0\u001b[0m\u001b[0;34m*\u001b[0m\u001b[0mc1\u001b[0m \u001b[0;34m+\u001b[0m \u001b[0mr2\u001b[0m\u001b[0;34m*\u001b[0m\u001b[0mdth2\u001b[0m\u001b[0;34m**\u001b[0m\u001b[0;36m2\u001b[0m\u001b[0;34m*\u001b[0m\u001b[0ms2\u001b[0m \u001b[0;34m+\u001b[0m \u001b[0mr1\u001b[0m\u001b[0;34m*\u001b[0m\u001b[0mdth1\u001b[0m\u001b[0;34m**\u001b[0m\u001b[0;36m2\u001b[0m\u001b[0;34m*\u001b[0m\u001b[0ms2\u001b[0m\u001b[0;34m)\u001b[0m \u001b[0;34m-\u001b[0m \u001b[0mr1\u001b[0m\u001b[0;34m*\u001b[0m\u001b[0mFx\u001b[0m\u001b[0;34m*\u001b[0m\u001b[0mc1\u001b[0m\u001b[0;34m**\u001b[0m\u001b[0;36m2\u001b[0m \u001b[0;34m+\u001b[0m \u001b[0;34m(\u001b[0m\u001b[0mr1\u001b[0m\u001b[0;34m*\u001b[0m\u001b[0mFy\u001b[0m\u001b[0;34m*\u001b[0m\u001b[0ms1\u001b[0m\u001b[0;34m-\u001b[0m\u001b[0muT\u001b[0m\u001b[0;34m)\u001b[0m\u001b[0;34m*\u001b[0m\u001b[0mc1\u001b[0m \u001b[0;34m+\u001b[0m \u001b[0mspring\u001b[0m\u001b[0;34m*\u001b[0m\u001b[0mW\u001b[0m\u001b[0;34m*\u001b[0m\u001b[0ms1\u001b[0m\u001b[0;34m)\u001b[0m\u001b[0;34m[\u001b[0m\u001b[0;36m0\u001b[0m\u001b[0;34m]\u001b[0m\u001b[0;34m)\u001b[0m\u001b[0;34m\u001b[0m\u001b[0;34m\u001b[0m\u001b[0m\n\u001b[0m\u001b[1;32m     54\u001b[0m   prog.AddConstraint(-s1*(m2*W*z0+I1)*ddth1 - m2*r2*W*s2*ddth2 +m2*W*ddy0 +m2*W*c1*ddz0 \n\u001b[1;32m     55\u001b[0m                          \u001b[0;34m==\u001b[0m \u001b[0mW\u001b[0m\u001b[0;34m*\u001b[0m\u001b[0mm2\u001b[0m\u001b[0;34m*\u001b[0m\u001b[0;34m(\u001b[0m\u001b[0mdth1\u001b[0m\u001b[0;34m**\u001b[0m\u001b[0;36m2\u001b[0m\u001b[0;34m*\u001b[0m\u001b[0mW\u001b[0m\u001b[0;34m*\u001b[0m\u001b[0mc1\u001b[0m \u001b[0;34m+\u001b[0m \u001b[0;36m2\u001b[0m\u001b[0;34m*\u001b[0m\u001b[0mdth1\u001b[0m\u001b[0;34m*\u001b[0m\u001b[0mdz0\u001b[0m\u001b[0;34m*\u001b[0m\u001b[0ms1\u001b[0m \u001b[0;34m+\u001b[0m \u001b[0mr2\u001b[0m\u001b[0;34m*\u001b[0m\u001b[0mdth2\u001b[0m\u001b[0;34m**\u001b[0m\u001b[0;36m2\u001b[0m\u001b[0;34m*\u001b[0m\u001b[0mc2\u001b[0m \u001b[0;34m+\u001b[0m \u001b[0mr1\u001b[0m\u001b[0;34m*\u001b[0m\u001b[0mdth1\u001b[0m\u001b[0;34m**\u001b[0m\u001b[0;36m2\u001b[0m\u001b[0;34m*\u001b[0m\u001b[0mc1\u001b[0m \u001b[0;34m-\u001b[0m \u001b[0mg\u001b[0m\u001b[0;34m)\u001b[0m \u001b[0;34m+\u001b[0m \u001b[0mr1\u001b[0m\u001b[0;34m*\u001b[0m\u001b[0mFx\u001b[0m\u001b[0;34m*\u001b[0m\u001b[0mc1\u001b[0m\u001b[0;34m*\u001b[0m\u001b[0ms1\u001b[0m\u001b[0;34m\u001b[0m\u001b[0;34m\u001b[0m\u001b[0m\n",
            "\u001b[0;31mRuntimeError\u001b[0m: state(0,2) is not a decision variable of the mathematical program.\n"
          ]
        }
      ]
    },
    {
      "cell_type": "code",
      "metadata": {
        "id": "y6XkyM9yqYQI",
        "colab_type": "code",
        "colab": {
          "base_uri": "https://localhost:8080/",
          "height": 286
        },
        "outputId": "268ffd09-98c6-410c-98d3-329c6798413e"
      },
      "source": [
        "prog=MathematicalProgram()\n",
        "#define state variables\n",
        "\n",
        "#and their derivatives\n",
        "dx0=prog.NewIndeterminates(1,'dx0')\n",
        "dy0=prog.NewIndeterminates(1,'dy0')\n",
        "dth1=prog.NewIndeterminates(1,'dth1')\n",
        "dz0=prog.NewIndeterminates(1,'dz0')\n",
        "dth2=prog.NewIndeterminates(1,'dth2')\n",
        "\n",
        "uX=prog.NewIndeterminates(1,'uX')\n",
        "uT=prog.NewIndeterminates(1,'uT')\n",
        "\n",
        "  #get contact forces\n",
        "Fx=prog.NewIndeterminates(1,'Fy')\n",
        "Fy=prog.NewIndeterminates(1,'Fx')\n",
        "\n",
        "  #define constants\n",
        "r1=0.5\n",
        "r2=0.7\n",
        "m1=10\n",
        "m2=10\n",
        "I1=10\n",
        "I2=10\n",
        "k=1000\n",
        "kL=1 #relaxed length\n",
        "g=9.81\n",
        "\n",
        "  #intermediates:\n",
        "W=z0-r1\n",
        "print(th1)\n",
        "s1=prog.NewIndeterminates(1,'s1')\n",
        "s2=prog.NewIndeterminates(1,'s2')\n",
        "c1=prog.NewIndeterminates(1,'c1')\n",
        "c2=prog.NewIndeterminates(1,'c2')\n",
        "c21=prog.NewIndeterminates(1,'c21')\n",
        "s21=prog.NewIndeterminates(1,'s21')\n",
        "spring=-k*(kL-z0+uX)\n",
        "\n",
        "\n",
        "ddx0=prog.NewContinuousVariables(1,\"ddx0\")\n",
        "ddy0=prog.NewContinuousVariables(1,\"ddy0\")\n",
        "ddth1=prog.NewContinuousVariables(1,\"ddth1\")\n",
        "ddz0=prog.NewContinuousVariables(1,\"ddz0\")\n",
        "ddth2=prog.NewContinuousVariables(1,\"ddth2\")\n",
        "\n",
        "print(s1**2+c1**2)#\n",
        "\n",
        "#prog.AddConstraint()\n",
        "#prog.AddConstraint(eq(s2**2+c2**2,1))\n",
        "#prog.AddConstraint(eq(s21**2+c21**2,1))\n",
        "\n",
        "\n",
        "prog.AddConstraint( eq(c1*(m2*W*z0+I1)*ddth1 + m2*r2*W*c2*ddth2 + m2*W*ddx0 + m2*W*s1*ddz0, W*m2*(dth1**2*W*s1 - 2*dth1*dz0*c1 + r2*dth2**2*s2 + r1*dth1**2*s2) - r1*Fx*c1**2 + (r1*Fy*s1-uT)*c1 + spring*W*s1))\n",
        "prog.AddConstraint(-s1*(m2*W*z0+I1)*ddth1 - m2*r2*W*s2*ddth2 +m2*W*ddy0 +m2*W*c1*ddz0 \n",
        "                         == W*m2*(dth1**2*W*c1 + 2*dth1*dz0*s1 + r2*dth2**2*c2 + r1*dth1**2*c1 - g) + r1*Fx*c1*s1\n",
        "                         -(r1*Fy*c1-uT)*s1 + spring*W*c1)\n",
        "prog.AddConstraint( c1*(m1*r1*W-I1)*ddth1 +m1*W*ddx0 \n",
        "                         ==W*(m1*r1*dth1**2*s1 - spring*s1 + Fx) - c1*(Fy*r1*s1-Fx*r1*c1-uT))\n",
        "prog.AddConstraint(-s1*(m1*r1*W-I1)*ddth1 +m1*W*ddy0 \n",
        "                         ==W*(m1*r1*dth1**2*c1 - spring*c1 + Fy - m1*g) - s1*(Fy*r1*s1 -Fx*r1*c1-uT))\n",
        "prog.AddConstraint(-c21*I1*r2*ddth1 + I2*z0*ddth2 \n",
        "                         == W*(spring*r2*s21+uT) - r2*c21*(r1*Fy*s1 - r1*Fx*c1 - uT))\n",
        "  \n"
      ],
      "execution_count": 30,
      "outputs": [
        {
          "output_type": "stream",
          "text": [
            "[Variable('th1(0)', Continuous)]\n",
            "[<Expression \"(pow(s1(0), 2) + pow(c1(0), 2))\">]\n"
          ],
          "name": "stdout"
        },
        {
          "output_type": "error",
          "ename": "RuntimeError",
          "evalue": "ignored",
          "traceback": [
            "\u001b[0;31m---------------------------------------------------------------------------\u001b[0m",
            "\u001b[0;31mRuntimeError\u001b[0m                              Traceback (most recent call last)",
            "\u001b[0;32m<ipython-input-30-b36052af40ee>\u001b[0m in \u001b[0;36m<module>\u001b[0;34m()\u001b[0m\n\u001b[1;32m     52\u001b[0m \u001b[0;34m\u001b[0m\u001b[0m\n\u001b[1;32m     53\u001b[0m \u001b[0;34m\u001b[0m\u001b[0m\n\u001b[0;32m---> 54\u001b[0;31m \u001b[0mprog\u001b[0m\u001b[0;34m.\u001b[0m\u001b[0mAddConstraint\u001b[0m\u001b[0;34m(\u001b[0m \u001b[0meq\u001b[0m\u001b[0;34m(\u001b[0m\u001b[0mc1\u001b[0m\u001b[0;34m*\u001b[0m\u001b[0;34m(\u001b[0m\u001b[0mm2\u001b[0m\u001b[0;34m*\u001b[0m\u001b[0mW\u001b[0m\u001b[0;34m*\u001b[0m\u001b[0mz0\u001b[0m\u001b[0;34m+\u001b[0m\u001b[0mI1\u001b[0m\u001b[0;34m)\u001b[0m\u001b[0;34m*\u001b[0m\u001b[0mddth1\u001b[0m \u001b[0;34m+\u001b[0m \u001b[0mm2\u001b[0m\u001b[0;34m*\u001b[0m\u001b[0mr2\u001b[0m\u001b[0;34m*\u001b[0m\u001b[0mW\u001b[0m\u001b[0;34m*\u001b[0m\u001b[0mc2\u001b[0m\u001b[0;34m*\u001b[0m\u001b[0mddth2\u001b[0m \u001b[0;34m+\u001b[0m \u001b[0mm2\u001b[0m\u001b[0;34m*\u001b[0m\u001b[0mW\u001b[0m\u001b[0;34m*\u001b[0m\u001b[0mddx0\u001b[0m \u001b[0;34m+\u001b[0m \u001b[0mm2\u001b[0m\u001b[0;34m*\u001b[0m\u001b[0mW\u001b[0m\u001b[0;34m*\u001b[0m\u001b[0ms1\u001b[0m\u001b[0;34m*\u001b[0m\u001b[0mddz0\u001b[0m\u001b[0;34m,\u001b[0m \u001b[0mW\u001b[0m\u001b[0;34m*\u001b[0m\u001b[0mm2\u001b[0m\u001b[0;34m*\u001b[0m\u001b[0;34m(\u001b[0m\u001b[0mdth1\u001b[0m\u001b[0;34m**\u001b[0m\u001b[0;36m2\u001b[0m\u001b[0;34m*\u001b[0m\u001b[0mW\u001b[0m\u001b[0;34m*\u001b[0m\u001b[0ms1\u001b[0m \u001b[0;34m-\u001b[0m \u001b[0;36m2\u001b[0m\u001b[0;34m*\u001b[0m\u001b[0mdth1\u001b[0m\u001b[0;34m*\u001b[0m\u001b[0mdz0\u001b[0m\u001b[0;34m*\u001b[0m\u001b[0mc1\u001b[0m \u001b[0;34m+\u001b[0m \u001b[0mr2\u001b[0m\u001b[0;34m*\u001b[0m\u001b[0mdth2\u001b[0m\u001b[0;34m**\u001b[0m\u001b[0;36m2\u001b[0m\u001b[0;34m*\u001b[0m\u001b[0ms2\u001b[0m \u001b[0;34m+\u001b[0m \u001b[0mr1\u001b[0m\u001b[0;34m*\u001b[0m\u001b[0mdth1\u001b[0m\u001b[0;34m**\u001b[0m\u001b[0;36m2\u001b[0m\u001b[0;34m*\u001b[0m\u001b[0ms2\u001b[0m\u001b[0;34m)\u001b[0m \u001b[0;34m-\u001b[0m \u001b[0mr1\u001b[0m\u001b[0;34m*\u001b[0m\u001b[0mFx\u001b[0m\u001b[0;34m*\u001b[0m\u001b[0mc1\u001b[0m\u001b[0;34m**\u001b[0m\u001b[0;36m2\u001b[0m \u001b[0;34m+\u001b[0m \u001b[0;34m(\u001b[0m\u001b[0mr1\u001b[0m\u001b[0;34m*\u001b[0m\u001b[0mFy\u001b[0m\u001b[0;34m*\u001b[0m\u001b[0ms1\u001b[0m\u001b[0;34m-\u001b[0m\u001b[0muT\u001b[0m\u001b[0;34m)\u001b[0m\u001b[0;34m*\u001b[0m\u001b[0mc1\u001b[0m \u001b[0;34m+\u001b[0m \u001b[0mspring\u001b[0m\u001b[0;34m*\u001b[0m\u001b[0mW\u001b[0m\u001b[0;34m*\u001b[0m\u001b[0ms1\u001b[0m\u001b[0;34m)\u001b[0m\u001b[0;34m)\u001b[0m\u001b[0;34m\u001b[0m\u001b[0;34m\u001b[0m\u001b[0m\n\u001b[0m\u001b[1;32m     55\u001b[0m prog.AddConstraint(-s1*(m2*W*z0+I1)*ddth1 - m2*r2*W*s2*ddth2 +m2*W*ddy0 +m2*W*c1*ddz0 \n\u001b[1;32m     56\u001b[0m                          \u001b[0;34m==\u001b[0m \u001b[0mW\u001b[0m\u001b[0;34m*\u001b[0m\u001b[0mm2\u001b[0m\u001b[0;34m*\u001b[0m\u001b[0;34m(\u001b[0m\u001b[0mdth1\u001b[0m\u001b[0;34m**\u001b[0m\u001b[0;36m2\u001b[0m\u001b[0;34m*\u001b[0m\u001b[0mW\u001b[0m\u001b[0;34m*\u001b[0m\u001b[0mc1\u001b[0m \u001b[0;34m+\u001b[0m \u001b[0;36m2\u001b[0m\u001b[0;34m*\u001b[0m\u001b[0mdth1\u001b[0m\u001b[0;34m*\u001b[0m\u001b[0mdz0\u001b[0m\u001b[0;34m*\u001b[0m\u001b[0ms1\u001b[0m \u001b[0;34m+\u001b[0m \u001b[0mr2\u001b[0m\u001b[0;34m*\u001b[0m\u001b[0mdth2\u001b[0m\u001b[0;34m**\u001b[0m\u001b[0;36m2\u001b[0m\u001b[0;34m*\u001b[0m\u001b[0mc2\u001b[0m \u001b[0;34m+\u001b[0m \u001b[0mr1\u001b[0m\u001b[0;34m*\u001b[0m\u001b[0mdth1\u001b[0m\u001b[0;34m**\u001b[0m\u001b[0;36m2\u001b[0m\u001b[0;34m*\u001b[0m\u001b[0mc1\u001b[0m \u001b[0;34m-\u001b[0m \u001b[0mg\u001b[0m\u001b[0;34m)\u001b[0m \u001b[0;34m+\u001b[0m \u001b[0mr1\u001b[0m\u001b[0;34m*\u001b[0m\u001b[0mFx\u001b[0m\u001b[0;34m*\u001b[0m\u001b[0mc1\u001b[0m\u001b[0;34m*\u001b[0m\u001b[0ms1\u001b[0m\u001b[0;34m\u001b[0m\u001b[0;34m\u001b[0m\u001b[0m\n",
            "\u001b[0;31mRuntimeError\u001b[0m: z0(0) is not a decision variable of the mathematical program.\n"
          ]
        }
      ]
    }
  ]
}