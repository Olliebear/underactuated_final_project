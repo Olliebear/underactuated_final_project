{
  "nbformat": 4,
  "nbformat_minor": 0,
  "metadata": {
    "colab": {
      "name": "Final Project.ipynb",
      "provenance": [],
      "collapsed_sections": []
    },
    "kernelspec": {
      "name": "python3",
      "display_name": "Python 3"
    }
  },
  "cells": [
    {
      "cell_type": "markdown",
      "metadata": {
        "id": "d4JuI-XzRwe0",
        "colab_type": "text"
      },
      "source": [
        "Below is setup for Drake"
      ]
    },
    {
      "cell_type": "code",
      "metadata": {
        "id": "DmFdFn7RQtEg",
        "colab_type": "code",
        "colab": {}
      },
      "source": [
        "try:\n",
        "    import pydrake\n",
        "    import underactuated\n",
        "except ImportError:\n",
        "    !curl -s https://raw.githubusercontent.com/RussTedrake/underactuated/master/scripts/setup/jupyter_setup.py > jupyter_setup.py\n",
        "    from jupyter_setup import setup_underactuated\n",
        "    setup_underactuated()\n",
        "\n",
        "# Setup matplotlib.\n",
        "from IPython import get_ipython\n",
        "if get_ipython() is not None: get_ipython().run_line_magic(\"matplotlib\", \"inline\")"
      ],
      "execution_count": 0,
      "outputs": []
    },
    {
      "cell_type": "code",
      "metadata": {
        "id": "j8skup-HQwwo",
        "colab_type": "code",
        "colab": {}
      },
      "source": [
        "# python libraries\n",
        "import numpy as np\n",
        "import matplotlib.pyplot as plt\n",
        "from IPython.display import HTML\n",
        "import sys \n",
        "import platform\n",
        "\n",
        "# pydrake imports\n",
        "from pydrake.all import (MultibodyPlant, Parser, DiagramBuilder, Simulator,\n",
        "                         PlanarSceneGraphVisualizer, SceneGraph, TrajectorySource,\n",
        "                         SnoptSolver, MultibodyPositionToGeometryPose, PiecewisePolynomial,\n",
        "                         MathematicalProgram, JacobianWrtVariable, eq, LinearQuadraticRegulator,\n",
        "                         Linearize, AddMultibodyPlantSceneGraph)\n",
        "# underactuated imports\n",
        "from underactuated import FindResource"
      ],
      "execution_count": 0,
      "outputs": []
    },
    {
      "cell_type": "code",
      "metadata": {
        "id": "hRWUst5FN3-N",
        "colab_type": "code",
        "colab": {
          "base_uri": "https://localhost:8080/",
          "height": 119
        },
        "outputId": "d0025e5b-0eab-4a48-a8c9-2742b3cfaa1b"
      },
      "source": [
        "#clears file and downloads urdf to have it be updated\n",
        "get_ipython().system(u\"rm -rf /opt/hopper\")\n",
        "if platform.system() == \"Darwin\":\n",
        "  get_ipython().system(u\"if [ ! -d '/opt/hopper' ]; then git clone https://github.com/Olliebear/underactuated_final_project.git /opt/hopper; fi\")\n",
        "elif platform.linux_distribution() == (\"Ubuntu\", \"18.04\", \"bionic\"):\n",
        "  get_ipython().system(u\"if [ ! -d '/opt/hopper' ]; then git clone https://github.com/Olliebear/underactuated_final_project.git /opt/hopper; fi\" )\n",
        "else:\n",
        "  assert False, \"Unsupported platform\"\n",
        "sys.path.append(\"/opt/hopper\")"
      ],
      "execution_count": 52,
      "outputs": [
        {
          "output_type": "stream",
          "text": [
            "Cloning into '/opt/hopper'...\n",
            "remote: Enumerating objects: 25, done.\u001b[K\n",
            "remote: Counting objects:   4% (1/25)\u001b[K\rremote: Counting objects:   8% (2/25)\u001b[K\rremote: Counting objects:  12% (3/25)\u001b[K\rremote: Counting objects:  16% (4/25)\u001b[K\rremote: Counting objects:  20% (5/25)\u001b[K\rremote: Counting objects:  24% (6/25)\u001b[K\rremote: Counting objects:  28% (7/25)\u001b[K\rremote: Counting objects:  32% (8/25)\u001b[K\rremote: Counting objects:  36% (9/25)\u001b[K\rremote: Counting objects:  40% (10/25)\u001b[K\rremote: Counting objects:  44% (11/25)\u001b[K\rremote: Counting objects:  48% (12/25)\u001b[K\rremote: Counting objects:  52% (13/25)\u001b[K\rremote: Counting objects:  56% (14/25)\u001b[K\rremote: Counting objects:  60% (15/25)\u001b[K\rremote: Counting objects:  64% (16/25)\u001b[K\rremote: Counting objects:  68% (17/25)\u001b[K\rremote: Counting objects:  72% (18/25)\u001b[K\rremote: Counting objects:  76% (19/25)\u001b[K\rremote: Counting objects:  80% (20/25)\u001b[K\rremote: Counting objects:  84% (21/25)\u001b[K\rremote: Counting objects:  88% (22/25)\u001b[K\rremote: Counting objects:  92% (23/25)\u001b[K\rremote: Counting objects:  96% (24/25)\u001b[K\rremote: Counting objects: 100% (25/25)\u001b[K\rremote: Counting objects: 100% (25/25), done.\u001b[K\n",
            "remote: Compressing objects:   5% (1/20)\u001b[K\rremote: Compressing objects:  10% (2/20)\u001b[K\rremote: Compressing objects:  15% (3/20)\u001b[K\rremote: Compressing objects:  20% (4/20)\u001b[K\rremote: Compressing objects:  25% (5/20)\u001b[K\rremote: Compressing objects:  30% (6/20)\u001b[K\rremote: Compressing objects:  35% (7/20)\u001b[K\rremote: Compressing objects:  40% (8/20)\u001b[K\rremote: Compressing objects:  45% (9/20)\u001b[K\rremote: Compressing objects:  50% (10/20)\u001b[K\rremote: Compressing objects:  55% (11/20)\u001b[K\rremote: Compressing objects:  60% (12/20)\u001b[K\rremote: Compressing objects:  65% (13/20)\u001b[K\rremote: Compressing objects:  70% (14/20)\u001b[K\rremote: Compressing objects:  75% (15/20)\u001b[K\rremote: Compressing objects:  80% (16/20)\u001b[K\rremote: Compressing objects:  85% (17/20)\u001b[K\rremote: Compressing objects:  90% (18/20)\u001b[K\rremote: Compressing objects:  95% (19/20)\u001b[K\rremote: Compressing objects: 100% (20/20)\u001b[K\rremote: Compressing objects: 100% (20/20), done.\u001b[K\n",
            "remote: Total 25 (delta 11), reused 19 (delta 5), pack-reused 0\u001b[K\n",
            "Unpacking objects: 100% (25/25), done.\n"
          ],
          "name": "stdout"
        }
      ]
    },
    {
      "cell_type": "markdown",
      "metadata": {
        "id": "701sqocLRutw",
        "colab_type": "text"
      },
      "source": [
        "##Define the problem's parameters:\n",
        "x0, y0 are coordinates of the foot of the 2d hopper.\n",
        "\n",
        "th1 (theta1) is the angle between the foot and the upright, th2 is angle between bode and upright.\n",
        "\n",
        "z0 is the distance from the hip pin joint to the foot. \n",
        "\n",
        "uT is torque input at pinjoint connecting leg and body. uX is length actuation on the spring in the leg. \n",
        "\n",
        "###Other parameters:\n",
        "Spring length K_length= z0 - uX.\n",
        "\n",
        "m1,I1,r1 = mass, inertia and radius from toe to C.O.M. for the leg\n",
        "\n",
        "m2,I2,r2 = mass, inertia and radius from hip to C.O.M. for the body\n",
        "\n",
        "\n",
        "#Equations of motion:\n",
        "Many different modes of dynamics. It makes sense to use Mixed-Integer MPC methods to control. Let's define our modes and the equations that go with them.\n",
        "##While in the air:\n",
        "\n",
        "\n",
        "##While on the ground:\n",
        "For now, assume infinite friction. Can add friction cone constraint later, or add more modes"
      ]
    },
    {
      "cell_type": "code",
      "metadata": {
        "id": "GXl5pwYeQzVz",
        "colab_type": "code",
        "colab": {}
      },
      "source": [
        ""
      ],
      "execution_count": 0,
      "outputs": []
    },
    {
      "cell_type": "markdown",
      "metadata": {
        "id": "IqaARnSmHM4A",
        "colab_type": "text"
      },
      "source": [
        "###Define Some System Constants\n",
        "Order of states: x0, y0, th1, z0, th2"
      ]
    },
    {
      "cell_type": "code",
      "metadata": {
        "id": "ITCXrjPcHMh5",
        "colab_type": "code",
        "colab": {}
      },
      "source": [
        "x_initial=[0, 3, 0, 0, 0, 0, 0, 0, 0, 0]\n",
        "\n",
        "\n",
        "# weight matrices for the lqr controller\n",
        "Q = np.eye(10)\n",
        "R = np.eye(4)"
      ],
      "execution_count": 0,
      "outputs": []
    },
    {
      "cell_type": "code",
      "metadata": {
        "id": "JTkXQqYMCDYZ",
        "colab_type": "code",
        "colab": {
          "base_uri": "https://localhost:8080/",
          "height": 269
        },
        "outputId": "dbe17782-46e5-421d-9031-6c30ee7a91a0"
      },
      "source": [
        "builder=DiagramBuilder()\n",
        "hopper, scene_graph = AddMultibodyPlantSceneGraph(builder, time_step=0.0)\n",
        "Parser(hopper).AddModelFromFile('/opt/hopper/hopper.urdf')\n",
        "hopper.Finalize()\n",
        "context=hopper.CreateDefaultContext()\n",
        "context.SetTime(0)\n",
        "context.SetContinuousState(x_initial)\n",
        "\n",
        "\n"
      ],
      "execution_count": 101,
      "outputs": [
        {
          "output_type": "stream",
          "text": [
            "<pydrake.systems.framework.OutputPort_[float] object at 0x7f2f36205830>\n"
          ],
          "name": "stdout"
        },
        {
          "output_type": "error",
          "ename": "RuntimeError",
          "evalue": "ignored",
          "traceback": [
            "\u001b[0;31m---------------------------------------------------------------------------\u001b[0m",
            "\u001b[0;31mRuntimeError\u001b[0m                              Traceback (most recent call last)",
            "\u001b[0;32m<ipython-input-101-5bd544e5d1c5>\u001b[0m in \u001b[0;36m<module>\u001b[0;34m()\u001b[0m\n\u001b[1;32m     13\u001b[0m \u001b[0mprint\u001b[0m\u001b[0;34m(\u001b[0m\u001b[0mhopper\u001b[0m\u001b[0;34m.\u001b[0m\u001b[0mget_state_output_port\u001b[0m\u001b[0;34m(\u001b[0m\u001b[0;34m)\u001b[0m\u001b[0;34m)\u001b[0m\u001b[0;34m\u001b[0m\u001b[0;34m\u001b[0m\u001b[0m\n\u001b[1;32m     14\u001b[0m \u001b[0minput_i\u001b[0m \u001b[0;34m=\u001b[0m \u001b[0mhopper\u001b[0m\u001b[0;34m.\u001b[0m\u001b[0mget_actuation_input_port\u001b[0m\u001b[0;34m(\u001b[0m\u001b[0;34m)\u001b[0m\u001b[0;34m.\u001b[0m\u001b[0mget_index\u001b[0m\u001b[0;34m(\u001b[0m\u001b[0;34m)\u001b[0m\u001b[0;34m\u001b[0m\u001b[0;34m\u001b[0m\u001b[0m\n\u001b[0;32m---> 15\u001b[0;31m \u001b[0mlqr\u001b[0m \u001b[0;34m=\u001b[0m \u001b[0mLinearQuadraticRegulator\u001b[0m\u001b[0;34m(\u001b[0m\u001b[0mhopper\u001b[0m\u001b[0;34m,\u001b[0m \u001b[0mcontext\u001b[0m\u001b[0;34m,\u001b[0m \u001b[0mQ\u001b[0m\u001b[0;34m,\u001b[0m \u001b[0mR\u001b[0m\u001b[0;34m,\u001b[0m \u001b[0minput_port_index\u001b[0m\u001b[0;34m=\u001b[0m\u001b[0minput_i\u001b[0m\u001b[0;34m)\u001b[0m\u001b[0;34m\u001b[0m\u001b[0;34m\u001b[0m\u001b[0m\n\u001b[0m\u001b[1;32m     16\u001b[0m \u001b[0mlqr\u001b[0m \u001b[0;34m=\u001b[0m \u001b[0mbuilder\u001b[0m\u001b[0;34m.\u001b[0m\u001b[0mAddSystem\u001b[0m\u001b[0;34m(\u001b[0m\u001b[0mlqr\u001b[0m\u001b[0;34m)\u001b[0m\u001b[0;34m\u001b[0m\u001b[0;34m\u001b[0m\u001b[0m\n\u001b[1;32m     17\u001b[0m \u001b[0;34m\u001b[0m\u001b[0m\n",
            "\u001b[0;31mRuntimeError\u001b[0m: InputPort::Eval(): required InputPort[0] (geometry_query) of System ::plant (MultibodyPlant<drake::AutoDiffXd>) is not connected"
          ]
        }
      ]
    },
    {
      "cell_type": "code",
      "metadata": {
        "id": "Vaf2V9xwOOSP",
        "colab_type": "code",
        "colab": {}
      },
      "source": [
        ""
      ],
      "execution_count": 0,
      "outputs": []
    }
  ]
}